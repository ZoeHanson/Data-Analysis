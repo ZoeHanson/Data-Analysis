{
 "cells": [
  {
   "cell_type": "markdown",
   "metadata": {},
   "source": [
    "# Billionaire Predictions"
   ]
  },
  {
   "cell_type": "code",
   "execution_count": 71,
   "metadata": {},
   "outputs": [],
   "source": [
    "#Imports herev\n",
    "import pandas as pd                    \n",
    "import matplotlib.pyplot as plt       \n",
    "import seaborn as sns                 \n",
    "sns.set()  \n",
    "import numpy as np\n",
    "from sklearn.model_selection import train_test_split\n",
    "import statsmodels.formula.api as smf\n",
    "from sklearn.metrics import roc_auc_score\n",
    "from sklearn.metrics import roc_curve\n",
    "from sklearn.model_selection import KFold\n",
    "from sklearn.model_selection import cross_val_score\n",
    "from sklearn.linear_model import LogisticRegression\n"
   ]
  },
  {
   "cell_type": "markdown",
   "metadata": {},
   "source": [
    "## 1. Introduction"
   ]
  },
  {
   "cell_type": "markdown",
   "metadata": {},
   "source": [
    "The primary research goal is for the chosen model to yield reliable interpretive insights about the nature of the relationships between the variables in the dataset and to predict whether a billionaire is self-made as correctly as possible.\n",
    "\n",
    "The secondary research goal is to build a predictive model that will effectively determine whether a billionaire is self-made or born into their wealth for new datasets. The explanatory variables considered from this dataset are finalWorth, industries, gender, age, and country.\n",
    "\n",
    "Someone who may be interested in the final model could be someone looking to reach out specifically to a self-made billionaire for sponsorship or advertisement opportunities."
   ]
  },
  {
   "cell_type": "markdown",
   "metadata": {},
   "source": [
    "## 2. Dataset Discussion"
   ]
  },
  {
   "cell_type": "markdown",
   "metadata": {},
   "source": [
    "Data Source:\n",
    "https://www.kaggle.com/datasets/nelgiriyewithana/billionaires-statistics-dataset?resource=download\n",
    "\n",
    "The rows in the dataset represent billionaires, originally compiled by researchers, building off Forbes' World's Billionaires List and other financial publications. The columns represent various details regarding each billionaire. While the dataset includes many different variables, it might also be useful to know how much these billionaires earn yearly from their industries and whether their net worth is increasing or decreasing.\n",
    "\n",
    "The response variable is whether a billionaire is self-made or not. The goal is to determine whether it is possible to predict if a billionaire is self-made for future datasets using the chosen variables. The selected explanatory variables include:\n",
    "\n",
    "* FinalWorth: The billionaire’s total net worth.\n",
    "* Industries: The industry in which the billionaire’s company operates.\n",
    "* Gender: The billionaire’s gender.\n",
    "* Age: The billionaire’s age.\n",
    "* Country: The country where the billionaire currently resides.\n",
    "\n",
    "These explanatory variables were chosen because they are expected to have the most predictive power compared to others in the dataset when building the final model.\n"
   ]
  },
  {
   "cell_type": "code",
   "execution_count": 72,
   "metadata": {},
   "outputs": [
    {
     "data": {
      "text/html": [
       "<div>\n",
       "<style scoped>\n",
       "    .dataframe tbody tr th:only-of-type {\n",
       "        vertical-align: middle;\n",
       "    }\n",
       "\n",
       "    .dataframe tbody tr th {\n",
       "        vertical-align: top;\n",
       "    }\n",
       "\n",
       "    .dataframe thead th {\n",
       "        text-align: right;\n",
       "    }\n",
       "</style>\n",
       "<table border=\"1\" class=\"dataframe\">\n",
       "  <thead>\n",
       "    <tr style=\"text-align: right;\">\n",
       "      <th></th>\n",
       "      <th>finalWorth</th>\n",
       "      <th>industries</th>\n",
       "      <th>selfMade</th>\n",
       "      <th>gender</th>\n",
       "      <th>age</th>\n",
       "      <th>country</th>\n",
       "    </tr>\n",
       "  </thead>\n",
       "  <tbody>\n",
       "    <tr>\n",
       "      <th>0</th>\n",
       "      <td>211000</td>\n",
       "      <td>Fashion &amp; Retail</td>\n",
       "      <td>False</td>\n",
       "      <td>M</td>\n",
       "      <td>74.0</td>\n",
       "      <td>France</td>\n",
       "    </tr>\n",
       "    <tr>\n",
       "      <th>1</th>\n",
       "      <td>180000</td>\n",
       "      <td>Automotive</td>\n",
       "      <td>True</td>\n",
       "      <td>M</td>\n",
       "      <td>51.0</td>\n",
       "      <td>United States</td>\n",
       "    </tr>\n",
       "    <tr>\n",
       "      <th>2</th>\n",
       "      <td>114000</td>\n",
       "      <td>Technology</td>\n",
       "      <td>True</td>\n",
       "      <td>M</td>\n",
       "      <td>59.0</td>\n",
       "      <td>United States</td>\n",
       "    </tr>\n",
       "    <tr>\n",
       "      <th>3</th>\n",
       "      <td>107000</td>\n",
       "      <td>Technology</td>\n",
       "      <td>True</td>\n",
       "      <td>M</td>\n",
       "      <td>78.0</td>\n",
       "      <td>United States</td>\n",
       "    </tr>\n",
       "    <tr>\n",
       "      <th>4</th>\n",
       "      <td>106000</td>\n",
       "      <td>Finance &amp; Investments</td>\n",
       "      <td>True</td>\n",
       "      <td>M</td>\n",
       "      <td>92.0</td>\n",
       "      <td>United States</td>\n",
       "    </tr>\n",
       "    <tr>\n",
       "      <th>...</th>\n",
       "      <td>...</td>\n",
       "      <td>...</td>\n",
       "      <td>...</td>\n",
       "      <td>...</td>\n",
       "      <td>...</td>\n",
       "      <td>...</td>\n",
       "    </tr>\n",
       "    <tr>\n",
       "      <th>2635</th>\n",
       "      <td>1000</td>\n",
       "      <td>Healthcare</td>\n",
       "      <td>True</td>\n",
       "      <td>M</td>\n",
       "      <td>51.0</td>\n",
       "      <td>China</td>\n",
       "    </tr>\n",
       "    <tr>\n",
       "      <th>2636</th>\n",
       "      <td>1000</td>\n",
       "      <td>Food &amp; Beverage</td>\n",
       "      <td>False</td>\n",
       "      <td>M</td>\n",
       "      <td>80.0</td>\n",
       "      <td>United States</td>\n",
       "    </tr>\n",
       "    <tr>\n",
       "      <th>2637</th>\n",
       "      <td>1000</td>\n",
       "      <td>Manufacturing</td>\n",
       "      <td>True</td>\n",
       "      <td>M</td>\n",
       "      <td>60.0</td>\n",
       "      <td>China</td>\n",
       "    </tr>\n",
       "    <tr>\n",
       "      <th>2638</th>\n",
       "      <td>1000</td>\n",
       "      <td>Real Estate</td>\n",
       "      <td>True</td>\n",
       "      <td>M</td>\n",
       "      <td>71.0</td>\n",
       "      <td>China</td>\n",
       "    </tr>\n",
       "    <tr>\n",
       "      <th>2639</th>\n",
       "      <td>1000</td>\n",
       "      <td>Diversified</td>\n",
       "      <td>False</td>\n",
       "      <td>M</td>\n",
       "      <td>66.0</td>\n",
       "      <td>Philippines</td>\n",
       "    </tr>\n",
       "  </tbody>\n",
       "</table>\n",
       "<p>2640 rows × 6 columns</p>\n",
       "</div>"
      ],
      "text/plain": [
       "      finalWorth             industries  selfMade gender   age        country\n",
       "0         211000       Fashion & Retail     False      M  74.0         France\n",
       "1         180000             Automotive      True      M  51.0  United States\n",
       "2         114000             Technology      True      M  59.0  United States\n",
       "3         107000             Technology      True      M  78.0  United States\n",
       "4         106000  Finance & Investments      True      M  92.0  United States\n",
       "...          ...                    ...       ...    ...   ...            ...\n",
       "2635        1000             Healthcare      True      M  51.0          China\n",
       "2636        1000        Food & Beverage     False      M  80.0  United States\n",
       "2637        1000          Manufacturing      True      M  60.0          China\n",
       "2638        1000            Real Estate      True      M  71.0          China\n",
       "2639        1000            Diversified     False      M  66.0    Philippines\n",
       "\n",
       "[2640 rows x 6 columns]"
      ]
     },
     "execution_count": 72,
     "metadata": {},
     "output_type": "execute_result"
    }
   ],
   "source": [
    "df=pd.read_csv('Billionaires Statistics Dataset.csv')\n",
    "df=df[['finalWorth','industries','selfMade','gender','age','country']]\n",
    "df"
   ]
  },
  {
   "cell_type": "code",
   "execution_count": 73,
   "metadata": {},
   "outputs": [
    {
     "data": {
      "text/plain": [
       "2640"
      ]
     },
     "execution_count": 73,
     "metadata": {},
     "output_type": "execute_result"
    }
   ],
   "source": [
    "original_rows=df.shape[0]\n",
    "original_rows"
   ]
  },
  {
   "cell_type": "markdown",
   "metadata": {},
   "source": [
    "## 3. Dataset Cleaning"
   ]
  },
  {
   "cell_type": "markdown",
   "metadata": {},
   "source": [
    "While I did not find any implicit missing values, there were 91 explicit N/A values that I dropped from the dataset. To maintain order and clarity when creating graphs and plots, I decided to focus only on the top five industries and top five countries in the dataset using the `.value_counts()` function, as there were many different categories present.  \n",
    "\n",
    "Since I chose to work with only one numerical variable for this project, I did not drop any outliers.  \n",
    "\n",
    "The original dataset contained 1,640 rows, and after preprocessing, it was reduced to 634 rows."
   ]
  },
  {
   "cell_type": "code",
   "execution_count": 74,
   "metadata": {},
   "outputs": [
    {
     "data": {
      "text/plain": [
       "finalWorth      int64\n",
       "industries     object\n",
       "selfMade         bool\n",
       "gender         object\n",
       "age           float64\n",
       "country        object\n",
       "dtype: object"
      ]
     },
     "execution_count": 74,
     "metadata": {},
     "output_type": "execute_result"
    }
   ],
   "source": [
    "df.dtypes"
   ]
  },
  {
   "cell_type": "code",
   "execution_count": 75,
   "metadata": {},
   "outputs": [
    {
     "data": {
      "text/plain": [
       "array(['France', 'United States', 'United States', ..., 'China', 'China',\n",
       "       'Philippines'], dtype=object)"
      ]
     },
     "execution_count": 75,
     "metadata": {},
     "output_type": "execute_result"
    }
   ],
   "source": [
    "df['country'].values"
   ]
  },
  {
   "cell_type": "code",
   "execution_count": 76,
   "metadata": {},
   "outputs": [
    {
     "data": {
      "text/plain": [
       "finalWorth     0\n",
       "industries     0\n",
       "selfMade       0\n",
       "gender         0\n",
       "age           65\n",
       "country       38\n",
       "dtype: int64"
      ]
     },
     "execution_count": 76,
     "metadata": {},
     "output_type": "execute_result"
    }
   ],
   "source": [
    "df.isna().sum()"
   ]
  },
  {
   "cell_type": "markdown",
   "metadata": {},
   "source": [
    "The above code signals that there are no implicit missing values to be removed. There are, however, explicit missing values so we will remove those rows."
   ]
  },
  {
   "cell_type": "code",
   "execution_count": 77,
   "metadata": {},
   "outputs": [
    {
     "data": {
      "text/plain": [
       "91"
      ]
     },
     "execution_count": 77,
     "metadata": {},
     "output_type": "execute_result"
    }
   ],
   "source": [
    "df=df.dropna()\n",
    "new_rows=df.shape[0]\n",
    "original_rows-new_rows"
   ]
  },
  {
   "cell_type": "code",
   "execution_count": 78,
   "metadata": {},
   "outputs": [
    {
     "data": {
      "text/plain": [
       "country\n",
       "United States           754\n",
       "China                   504\n",
       "India                   157\n",
       "Germany                  88\n",
       "United Kingdom           80\n",
       "                       ... \n",
       "Portugal                  1\n",
       "Georgia                   1\n",
       "Eswatini (Swaziland)      1\n",
       "Uzbekistan                1\n",
       "Armenia                   1\n",
       "Name: count, Length: 78, dtype: int64"
      ]
     },
     "execution_count": 78,
     "metadata": {},
     "output_type": "execute_result"
    }
   ],
   "source": [
    "country_count = df['country'].value_counts()\n",
    "country_count"
   ]
  },
  {
   "cell_type": "markdown",
   "metadata": {},
   "source": [
    "Since the 'country' column have many levels with only a few observations, we can remove levels with less than 80 observations."
   ]
  },
  {
   "cell_type": "code",
   "execution_count": 79,
   "metadata": {},
   "outputs": [
    {
     "data": {
      "text/plain": [
       "Index(['United States', 'China', 'India'], dtype='object', name='country')"
      ]
     },
     "execution_count": 79,
     "metadata": {},
     "output_type": "execute_result"
    }
   ],
   "source": [
    "top_countries= country_count[country_count > 150].index\n",
    "top_countries"
   ]
  },
  {
   "cell_type": "code",
   "execution_count": 80,
   "metadata": {},
   "outputs": [
    {
     "data": {
      "text/plain": [
       "1415"
      ]
     },
     "execution_count": 80,
     "metadata": {},
     "output_type": "execute_result"
    }
   ],
   "source": [
    "df1=df[df['country'].isin(top_countries)]\n",
    "df1.shape[0]"
   ]
  },
  {
   "cell_type": "code",
   "execution_count": 81,
   "metadata": {},
   "outputs": [
    {
     "data": {
      "text/html": [
       "<div>\n",
       "<style scoped>\n",
       "    .dataframe tbody tr th:only-of-type {\n",
       "        vertical-align: middle;\n",
       "    }\n",
       "\n",
       "    .dataframe tbody tr th {\n",
       "        vertical-align: top;\n",
       "    }\n",
       "\n",
       "    .dataframe thead th {\n",
       "        text-align: right;\n",
       "    }\n",
       "</style>\n",
       "<table border=\"1\" class=\"dataframe\">\n",
       "  <thead>\n",
       "    <tr style=\"text-align: right;\">\n",
       "      <th></th>\n",
       "      <th>finalWorth</th>\n",
       "      <th>industries</th>\n",
       "      <th>selfMade</th>\n",
       "      <th>gender</th>\n",
       "      <th>age</th>\n",
       "      <th>country</th>\n",
       "    </tr>\n",
       "  </thead>\n",
       "  <tbody>\n",
       "    <tr>\n",
       "      <th>1</th>\n",
       "      <td>180000</td>\n",
       "      <td>Automotive</td>\n",
       "      <td>True</td>\n",
       "      <td>M</td>\n",
       "      <td>51.0</td>\n",
       "      <td>United States</td>\n",
       "    </tr>\n",
       "    <tr>\n",
       "      <th>2</th>\n",
       "      <td>114000</td>\n",
       "      <td>Technology</td>\n",
       "      <td>True</td>\n",
       "      <td>M</td>\n",
       "      <td>59.0</td>\n",
       "      <td>United States</td>\n",
       "    </tr>\n",
       "    <tr>\n",
       "      <th>3</th>\n",
       "      <td>107000</td>\n",
       "      <td>Technology</td>\n",
       "      <td>True</td>\n",
       "      <td>M</td>\n",
       "      <td>78.0</td>\n",
       "      <td>United States</td>\n",
       "    </tr>\n",
       "    <tr>\n",
       "      <th>4</th>\n",
       "      <td>106000</td>\n",
       "      <td>Finance &amp; Investments</td>\n",
       "      <td>True</td>\n",
       "      <td>M</td>\n",
       "      <td>92.0</td>\n",
       "      <td>United States</td>\n",
       "    </tr>\n",
       "    <tr>\n",
       "      <th>5</th>\n",
       "      <td>104000</td>\n",
       "      <td>Technology</td>\n",
       "      <td>True</td>\n",
       "      <td>M</td>\n",
       "      <td>67.0</td>\n",
       "      <td>United States</td>\n",
       "    </tr>\n",
       "    <tr>\n",
       "      <th>...</th>\n",
       "      <td>...</td>\n",
       "      <td>...</td>\n",
       "      <td>...</td>\n",
       "      <td>...</td>\n",
       "      <td>...</td>\n",
       "      <td>...</td>\n",
       "    </tr>\n",
       "    <tr>\n",
       "      <th>2634</th>\n",
       "      <td>1000</td>\n",
       "      <td>Healthcare</td>\n",
       "      <td>True</td>\n",
       "      <td>M</td>\n",
       "      <td>63.0</td>\n",
       "      <td>China</td>\n",
       "    </tr>\n",
       "    <tr>\n",
       "      <th>2635</th>\n",
       "      <td>1000</td>\n",
       "      <td>Healthcare</td>\n",
       "      <td>True</td>\n",
       "      <td>M</td>\n",
       "      <td>51.0</td>\n",
       "      <td>China</td>\n",
       "    </tr>\n",
       "    <tr>\n",
       "      <th>2636</th>\n",
       "      <td>1000</td>\n",
       "      <td>Food &amp; Beverage</td>\n",
       "      <td>False</td>\n",
       "      <td>M</td>\n",
       "      <td>80.0</td>\n",
       "      <td>United States</td>\n",
       "    </tr>\n",
       "    <tr>\n",
       "      <th>2637</th>\n",
       "      <td>1000</td>\n",
       "      <td>Manufacturing</td>\n",
       "      <td>True</td>\n",
       "      <td>M</td>\n",
       "      <td>60.0</td>\n",
       "      <td>China</td>\n",
       "    </tr>\n",
       "    <tr>\n",
       "      <th>2638</th>\n",
       "      <td>1000</td>\n",
       "      <td>Real Estate</td>\n",
       "      <td>True</td>\n",
       "      <td>M</td>\n",
       "      <td>71.0</td>\n",
       "      <td>China</td>\n",
       "    </tr>\n",
       "  </tbody>\n",
       "</table>\n",
       "<p>1415 rows × 6 columns</p>\n",
       "</div>"
      ],
      "text/plain": [
       "      finalWorth             industries  selfMade gender   age        country\n",
       "1         180000             Automotive      True      M  51.0  United States\n",
       "2         114000             Technology      True      M  59.0  United States\n",
       "3         107000             Technology      True      M  78.0  United States\n",
       "4         106000  Finance & Investments      True      M  92.0  United States\n",
       "5         104000             Technology      True      M  67.0  United States\n",
       "...          ...                    ...       ...    ...   ...            ...\n",
       "2634        1000             Healthcare      True      M  63.0          China\n",
       "2635        1000             Healthcare      True      M  51.0          China\n",
       "2636        1000        Food & Beverage     False      M  80.0  United States\n",
       "2637        1000          Manufacturing      True      M  60.0          China\n",
       "2638        1000            Real Estate      True      M  71.0          China\n",
       "\n",
       "[1415 rows x 6 columns]"
      ]
     },
     "execution_count": 81,
     "metadata": {},
     "output_type": "execute_result"
    }
   ],
   "source": [
    "df1"
   ]
  },
  {
   "cell_type": "code",
   "execution_count": 82,
   "metadata": {},
   "outputs": [
    {
     "data": {
      "text/plain": [
       "industries\n",
       "Technology                    228\n",
       "Finance & Investments         205\n",
       "Manufacturing                 201\n",
       "Healthcare                    133\n",
       "Food & Beverage               128\n",
       "Fashion & Retail              109\n",
       "Real Estate                    91\n",
       "Diversified                    52\n",
       "Energy                         50\n",
       "Automotive                     47\n",
       "Media & Entertainment          47\n",
       "Sports                         35\n",
       "Service                        32\n",
       "Metals & Mining                15\n",
       "Logistics                      14\n",
       "Construction & Engineering     12\n",
       "Telecom                        10\n",
       "Gambling & Casinos              6\n",
       "Name: count, dtype: int64"
      ]
     },
     "execution_count": 82,
     "metadata": {},
     "output_type": "execute_result"
    }
   ],
   "source": [
    "industry_count = df1['industries'].value_counts()\n",
    "industry_count"
   ]
  },
  {
   "cell_type": "code",
   "execution_count": 83,
   "metadata": {},
   "outputs": [
    {
     "data": {
      "text/plain": [
       "Index(['Technology', 'Finance & Investments', 'Manufacturing'], dtype='object', name='industries')"
      ]
     },
     "execution_count": 83,
     "metadata": {},
     "output_type": "execute_result"
    }
   ],
   "source": [
    "top_industries= industry_count[industry_count > 150].index\n",
    "top_industries"
   ]
  },
  {
   "cell_type": "code",
   "execution_count": 84,
   "metadata": {},
   "outputs": [
    {
     "data": {
      "text/plain": [
       "634"
      ]
     },
     "execution_count": 84,
     "metadata": {},
     "output_type": "execute_result"
    }
   ],
   "source": [
    "df2=df1[df1['industries'].isin(top_industries)]\n",
    "df2.shape[0]"
   ]
  },
  {
   "cell_type": "code",
   "execution_count": 85,
   "metadata": {},
   "outputs": [
    {
     "data": {
      "text/plain": [
       "2006"
      ]
     },
     "execution_count": 85,
     "metadata": {},
     "output_type": "execute_result"
    }
   ],
   "source": [
    "new_new_rows=df2.shape[0]\n",
    "original_rows-new_new_rows"
   ]
  },
  {
   "cell_type": "code",
   "execution_count": 86,
   "metadata": {},
   "outputs": [
    {
     "data": {
      "text/html": [
       "<div>\n",
       "<style scoped>\n",
       "    .dataframe tbody tr th:only-of-type {\n",
       "        vertical-align: middle;\n",
       "    }\n",
       "\n",
       "    .dataframe tbody tr th {\n",
       "        vertical-align: top;\n",
       "    }\n",
       "\n",
       "    .dataframe thead th {\n",
       "        text-align: right;\n",
       "    }\n",
       "</style>\n",
       "<table border=\"1\" class=\"dataframe\">\n",
       "  <thead>\n",
       "    <tr style=\"text-align: right;\">\n",
       "      <th></th>\n",
       "      <th>finalWorth</th>\n",
       "      <th>industries</th>\n",
       "      <th>selfMade</th>\n",
       "      <th>gender</th>\n",
       "      <th>age</th>\n",
       "      <th>country</th>\n",
       "    </tr>\n",
       "  </thead>\n",
       "  <tbody>\n",
       "    <tr>\n",
       "      <th>2</th>\n",
       "      <td>114000</td>\n",
       "      <td>Technology</td>\n",
       "      <td>True</td>\n",
       "      <td>M</td>\n",
       "      <td>59.0</td>\n",
       "      <td>United States</td>\n",
       "    </tr>\n",
       "    <tr>\n",
       "      <th>3</th>\n",
       "      <td>107000</td>\n",
       "      <td>Technology</td>\n",
       "      <td>True</td>\n",
       "      <td>M</td>\n",
       "      <td>78.0</td>\n",
       "      <td>United States</td>\n",
       "    </tr>\n",
       "    <tr>\n",
       "      <th>4</th>\n",
       "      <td>106000</td>\n",
       "      <td>Finance &amp; Investments</td>\n",
       "      <td>True</td>\n",
       "      <td>M</td>\n",
       "      <td>92.0</td>\n",
       "      <td>United States</td>\n",
       "    </tr>\n",
       "    <tr>\n",
       "      <th>5</th>\n",
       "      <td>104000</td>\n",
       "      <td>Technology</td>\n",
       "      <td>True</td>\n",
       "      <td>M</td>\n",
       "      <td>67.0</td>\n",
       "      <td>United States</td>\n",
       "    </tr>\n",
       "    <tr>\n",
       "      <th>9</th>\n",
       "      <td>80700</td>\n",
       "      <td>Technology</td>\n",
       "      <td>True</td>\n",
       "      <td>M</td>\n",
       "      <td>67.0</td>\n",
       "      <td>United States</td>\n",
       "    </tr>\n",
       "    <tr>\n",
       "      <th>...</th>\n",
       "      <td>...</td>\n",
       "      <td>...</td>\n",
       "      <td>...</td>\n",
       "      <td>...</td>\n",
       "      <td>...</td>\n",
       "      <td>...</td>\n",
       "    </tr>\n",
       "    <tr>\n",
       "      <th>2613</th>\n",
       "      <td>1000</td>\n",
       "      <td>Technology</td>\n",
       "      <td>True</td>\n",
       "      <td>F</td>\n",
       "      <td>68.0</td>\n",
       "      <td>United States</td>\n",
       "    </tr>\n",
       "    <tr>\n",
       "      <th>2614</th>\n",
       "      <td>1000</td>\n",
       "      <td>Technology</td>\n",
       "      <td>True</td>\n",
       "      <td>M</td>\n",
       "      <td>73.0</td>\n",
       "      <td>United States</td>\n",
       "    </tr>\n",
       "    <tr>\n",
       "      <th>2632</th>\n",
       "      <td>1000</td>\n",
       "      <td>Manufacturing</td>\n",
       "      <td>True</td>\n",
       "      <td>M</td>\n",
       "      <td>59.0</td>\n",
       "      <td>China</td>\n",
       "    </tr>\n",
       "    <tr>\n",
       "      <th>2633</th>\n",
       "      <td>1000</td>\n",
       "      <td>Manufacturing</td>\n",
       "      <td>True</td>\n",
       "      <td>M</td>\n",
       "      <td>53.0</td>\n",
       "      <td>China</td>\n",
       "    </tr>\n",
       "    <tr>\n",
       "      <th>2637</th>\n",
       "      <td>1000</td>\n",
       "      <td>Manufacturing</td>\n",
       "      <td>True</td>\n",
       "      <td>M</td>\n",
       "      <td>60.0</td>\n",
       "      <td>China</td>\n",
       "    </tr>\n",
       "  </tbody>\n",
       "</table>\n",
       "<p>634 rows × 6 columns</p>\n",
       "</div>"
      ],
      "text/plain": [
       "      finalWorth             industries  selfMade gender   age        country\n",
       "2         114000             Technology      True      M  59.0  United States\n",
       "3         107000             Technology      True      M  78.0  United States\n",
       "4         106000  Finance & Investments      True      M  92.0  United States\n",
       "5         104000             Technology      True      M  67.0  United States\n",
       "9          80700             Technology      True      M  67.0  United States\n",
       "...          ...                    ...       ...    ...   ...            ...\n",
       "2613        1000             Technology      True      F  68.0  United States\n",
       "2614        1000             Technology      True      M  73.0  United States\n",
       "2632        1000          Manufacturing      True      M  59.0          China\n",
       "2633        1000          Manufacturing      True      M  53.0          China\n",
       "2637        1000          Manufacturing      True      M  60.0          China\n",
       "\n",
       "[634 rows x 6 columns]"
      ]
     },
     "execution_count": 86,
     "metadata": {},
     "output_type": "execute_result"
    }
   ],
   "source": [
    "df = df2\n",
    "df"
   ]
  },
  {
   "cell_type": "markdown",
   "metadata": {},
   "source": [
    "Throughout this data cleaning process we dropped rows."
   ]
  },
  {
   "cell_type": "markdown",
   "metadata": {},
   "source": [
    "## 4. Preliminary Analysis"
   ]
  },
  {
   "cell_type": "code",
   "execution_count": 87,
   "metadata": {},
   "outputs": [
    {
     "name": "stderr",
     "output_type": "stream",
     "text": [
      "/Users/zoerosearies/miniconda3/lib/python3.11/site-packages/seaborn/_oldcore.py:1119: FutureWarning: use_inf_as_na option is deprecated and will be removed in a future version. Convert inf values to NaN before operating instead.\n",
      "  with pd.option_context('mode.use_inf_as_na', True):\n",
      "/Users/zoerosearies/miniconda3/lib/python3.11/site-packages/seaborn/_oldcore.py:1119: FutureWarning: use_inf_as_na option is deprecated and will be removed in a future version. Convert inf values to NaN before operating instead.\n",
      "  with pd.option_context('mode.use_inf_as_na', True):\n",
      "/Users/zoerosearies/miniconda3/lib/python3.11/site-packages/seaborn/_stats/counting.py:137: RuntimeWarning: Converting input from bool to <class 'numpy.uint8'> for compatibility.\n",
      "  bin_edges = np.histogram_bin_edges(vals, bins, binrange, weight)\n",
      "/Users/zoerosearies/miniconda3/lib/python3.11/site-packages/seaborn/_stats/counting.py:176: RuntimeWarning: Converting input from bool to <class 'numpy.uint8'> for compatibility.\n",
      "  hist, edges = np.histogram(vals, **bin_kws, weights=weights, density=density)\n",
      "/Users/zoerosearies/miniconda3/lib/python3.11/site-packages/seaborn/_oldcore.py:1119: FutureWarning: use_inf_as_na option is deprecated and will be removed in a future version. Convert inf values to NaN before operating instead.\n",
      "  with pd.option_context('mode.use_inf_as_na', True):\n"
     ]
    },
    {
     "data": {
      "text/plain": [
       "<seaborn.axisgrid.PairGrid at 0x29b7f6c10>"
      ]
     },
     "execution_count": 87,
     "metadata": {},
     "output_type": "execute_result"
    },
    {
     "data": {
      "image/png": "[encoded data removed]",
      "text/plain": [
       "<Figure size 750x750 with 12 Axes>"
      ]
     },
     "metadata": {},
     "output_type": "display_data"
    }
   ],
   "source": [
    "sns.pairplot(data=df)"
   ]
  },
  {
   "cell_type": "code",
   "execution_count": 88,
   "metadata": {},
   "outputs": [
    {
     "data": {
      "text/html": [
       "<div>\n",
       "<style scoped>\n",
       "    .dataframe tbody tr th:only-of-type {\n",
       "        vertical-align: middle;\n",
       "    }\n",
       "\n",
       "    .dataframe tbody tr th {\n",
       "        vertical-align: top;\n",
       "    }\n",
       "\n",
       "    .dataframe thead th {\n",
       "        text-align: right;\n",
       "    }\n",
       "</style>\n",
       "<table border=\"1\" class=\"dataframe\">\n",
       "  <thead>\n",
       "    <tr style=\"text-align: right;\">\n",
       "      <th></th>\n",
       "      <th>finalWorth</th>\n",
       "      <th>age</th>\n",
       "    </tr>\n",
       "  </thead>\n",
       "  <tbody>\n",
       "    <tr>\n",
       "      <th>finalWorth</th>\n",
       "      <td>1.000000</td>\n",
       "      <td>0.046018</td>\n",
       "    </tr>\n",
       "    <tr>\n",
       "      <th>age</th>\n",
       "      <td>0.046018</td>\n",
       "      <td>1.000000</td>\n",
       "    </tr>\n",
       "  </tbody>\n",
       "</table>\n",
       "</div>"
      ],
      "text/plain": [
       "            finalWorth       age\n",
       "finalWorth    1.000000  0.046018\n",
       "age           0.046018  1.000000"
      ]
     },
     "execution_count": 88,
     "metadata": {},
     "output_type": "execute_result"
    }
   ],
   "source": [
    "df[['finalWorth','age']].corr()"
   ]
  },
  {
   "cell_type": "markdown",
   "metadata": {},
   "source": [
    "From this pairplot, we can see that there is a nonlinear relationship between selfMade and age with finalWorth. Because of this, we cannot interpret any strength of relationship between the two variables. In the analysis I decided not to remove outliers in order to maintain a thorough dataset. Removing outliers would also make the model worse at predicting outlier-like points so including them could improve the models performance overall. \n"
   ]
  },
  {
   "cell_type": "code",
   "execution_count": 89,
   "metadata": {},
   "outputs": [
    {
     "data": {
      "text/plain": [
       "<Axes: xlabel='age', ylabel='industries'>"
      ]
     },
     "execution_count": 89,
     "metadata": {},
     "output_type": "execute_result"
    },
    {
     "data": {
      "image/png": "[encoded data removed]",
      "text/plain": [
       "<Figure size 640x480 with 1 Axes>"
      ]
     },
     "metadata": {},
     "output_type": "display_data"
    }
   ],
   "source": [
    "sns.boxplot(data=df, x='age',y='industries')"
   ]
  },
  {
   "cell_type": "markdown",
   "metadata": {},
   "source": [
    "Since there is some difference in boxplot IQRs, this could indicate that an association exists between the industry and country of a billionaire."
   ]
  },
  {
   "cell_type": "code",
   "execution_count": 90,
   "metadata": {},
   "outputs": [
    {
     "data": {
      "text/plain": [
       "<Axes: xlabel='age', ylabel='country'>"
      ]
     },
     "execution_count": 90,
     "metadata": {},
     "output_type": "execute_result"
    },
    {
     "data": {
      "image/png": "[encoded data removed]",
      "text/plain": [
       "<Figure size 640x480 with 1 Axes>"
      ]
     },
     "metadata": {},
     "output_type": "display_data"
    }
   ],
   "source": [
    "sns.boxplot(data=df, x='age',y='country')"
   ]
  },
  {
   "cell_type": "markdown",
   "metadata": {},
   "source": [
    "There is some difference in boxplot IQRs, specifically between the countries of China and and India. This indicates that there is an association between age and country of a billionaire."
   ]
  },
  {
   "cell_type": "code",
   "execution_count": 91,
   "metadata": {},
   "outputs": [
    {
     "data": {
      "text/plain": [
       "Text(0, 0.5, 'Relative Frequency')"
      ]
     },
     "execution_count": 91,
     "metadata": {},
     "output_type": "execute_result"
    },
    {
     "data": {
      "image/png": "[encoded data removed]",
      "text/plain": [
       "<Figure size 640x480 with 1 Axes>"
      ]
     },
     "metadata": {},
     "output_type": "display_data"
    }
   ],
   "source": [
    "temp=pd.crosstab(df2['country'],df['industries'],normalize='index')\n",
    "temp.plot.bar()\n",
    "plt.legend(loc='upper right')\n",
    "plt.ylabel('Relative Frequency')"
   ]
  },
  {
   "cell_type": "markdown",
   "metadata": {},
   "source": [
    "Since at least one color had bars of different heights, this suggests an association between country and industry that a billionaire is from."
   ]
  },
  {
   "cell_type": "code",
   "execution_count": 92,
   "metadata": {},
   "outputs": [
    {
     "data": {
      "text/plain": [
       "Text(0, 0.5, 'Relative Frequency')"
      ]
     },
     "execution_count": 92,
     "metadata": {},
     "output_type": "execute_result"
    },
    {
     "data": {
      "image/png": "[encoded data removed]",
      "text/plain": [
       "<Figure size 640x480 with 1 Axes>"
      ]
     },
     "metadata": {},
     "output_type": "display_data"
    }
   ],
   "source": [
    "temp=pd.crosstab(df2['country'],df['selfMade'],normalize='index')\n",
    "temp.plot.bar()\n",
    "plt.legend(loc='upper right')\n",
    "plt.ylabel('Relative Frequency')"
   ]
  },
  {
   "cell_type": "markdown",
   "metadata": {},
   "source": [
    "Because the bars for both the self made and non self made colors were different for different countries, this suggests an association between the country a billionaire is from and whether or not they are self made."
   ]
  },
  {
   "cell_type": "code",
   "execution_count": 93,
   "metadata": {},
   "outputs": [
    {
     "data": {
      "text/plain": [
       "Text(0, 0.5, 'Relative Frequency')"
      ]
     },
     "execution_count": 93,
     "metadata": {},
     "output_type": "execute_result"
    },
    {
     "data": {
      "image/png": "[encoded data removed]",
      "text/plain": [
       "<Figure size 640x480 with 1 Axes>"
      ]
     },
     "metadata": {},
     "output_type": "display_data"
    }
   ],
   "source": [
    "temp=pd.crosstab(df2['selfMade'],df['industries'],normalize='index')\n",
    "temp.plot.bar()\n",
    "plt.legend(loc='upper right')\n",
    "plt.ylabel('Relative Frequency')"
   ]
  },
  {
   "cell_type": "markdown",
   "metadata": {},
   "source": [
    "Because there is at least one color for which the bars are different heights(namely orange and purple), this suggests an association between a billionaire being self made and the industry they are in."
   ]
  },
  {
   "cell_type": "code",
   "execution_count": 94,
   "metadata": {},
   "outputs": [
    {
     "name": "stderr",
     "output_type": "stream",
     "text": [
      "/var/folders/2z/fct5b66x0nnc4c72gy8wbcnc0000gn/T/ipykernel_59815/2741332401.py:1: SettingWithCopyWarning: \n",
      "A value is trying to be set on a copy of a slice from a DataFrame.\n",
      "Try using .loc[row_indexer,col_indexer] = value instead\n",
      "\n",
      "See the caveats in the documentation: https://pandas.pydata.org/pandas-docs/stable/user_guide/indexing.html#returning-a-view-versus-a-copy\n",
      "  df['y']=df['selfMade'].replace({True:1, False:0})\n"
     ]
    },
    {
     "data": {
      "text/html": [
       "<div>\n",
       "<style scoped>\n",
       "    .dataframe tbody tr th:only-of-type {\n",
       "        vertical-align: middle;\n",
       "    }\n",
       "\n",
       "    .dataframe tbody tr th {\n",
       "        vertical-align: top;\n",
       "    }\n",
       "\n",
       "    .dataframe thead th {\n",
       "        text-align: right;\n",
       "    }\n",
       "</style>\n",
       "<table border=\"1\" class=\"dataframe\">\n",
       "  <thead>\n",
       "    <tr style=\"text-align: right;\">\n",
       "      <th></th>\n",
       "      <th>finalWorth</th>\n",
       "      <th>industries</th>\n",
       "      <th>gender</th>\n",
       "      <th>age</th>\n",
       "      <th>country</th>\n",
       "      <th>y</th>\n",
       "    </tr>\n",
       "  </thead>\n",
       "  <tbody>\n",
       "    <tr>\n",
       "      <th>2</th>\n",
       "      <td>114000</td>\n",
       "      <td>Technology</td>\n",
       "      <td>M</td>\n",
       "      <td>59.0</td>\n",
       "      <td>United States</td>\n",
       "      <td>1</td>\n",
       "    </tr>\n",
       "    <tr>\n",
       "      <th>3</th>\n",
       "      <td>107000</td>\n",
       "      <td>Technology</td>\n",
       "      <td>M</td>\n",
       "      <td>78.0</td>\n",
       "      <td>United States</td>\n",
       "      <td>1</td>\n",
       "    </tr>\n",
       "    <tr>\n",
       "      <th>4</th>\n",
       "      <td>106000</td>\n",
       "      <td>Finance &amp; Investments</td>\n",
       "      <td>M</td>\n",
       "      <td>92.0</td>\n",
       "      <td>United States</td>\n",
       "      <td>1</td>\n",
       "    </tr>\n",
       "    <tr>\n",
       "      <th>5</th>\n",
       "      <td>104000</td>\n",
       "      <td>Technology</td>\n",
       "      <td>M</td>\n",
       "      <td>67.0</td>\n",
       "      <td>United States</td>\n",
       "      <td>1</td>\n",
       "    </tr>\n",
       "    <tr>\n",
       "      <th>9</th>\n",
       "      <td>80700</td>\n",
       "      <td>Technology</td>\n",
       "      <td>M</td>\n",
       "      <td>67.0</td>\n",
       "      <td>United States</td>\n",
       "      <td>1</td>\n",
       "    </tr>\n",
       "    <tr>\n",
       "      <th>...</th>\n",
       "      <td>...</td>\n",
       "      <td>...</td>\n",
       "      <td>...</td>\n",
       "      <td>...</td>\n",
       "      <td>...</td>\n",
       "      <td>...</td>\n",
       "    </tr>\n",
       "    <tr>\n",
       "      <th>2613</th>\n",
       "      <td>1000</td>\n",
       "      <td>Technology</td>\n",
       "      <td>F</td>\n",
       "      <td>68.0</td>\n",
       "      <td>United States</td>\n",
       "      <td>1</td>\n",
       "    </tr>\n",
       "    <tr>\n",
       "      <th>2614</th>\n",
       "      <td>1000</td>\n",
       "      <td>Technology</td>\n",
       "      <td>M</td>\n",
       "      <td>73.0</td>\n",
       "      <td>United States</td>\n",
       "      <td>1</td>\n",
       "    </tr>\n",
       "    <tr>\n",
       "      <th>2632</th>\n",
       "      <td>1000</td>\n",
       "      <td>Manufacturing</td>\n",
       "      <td>M</td>\n",
       "      <td>59.0</td>\n",
       "      <td>China</td>\n",
       "      <td>1</td>\n",
       "    </tr>\n",
       "    <tr>\n",
       "      <th>2633</th>\n",
       "      <td>1000</td>\n",
       "      <td>Manufacturing</td>\n",
       "      <td>M</td>\n",
       "      <td>53.0</td>\n",
       "      <td>China</td>\n",
       "      <td>1</td>\n",
       "    </tr>\n",
       "    <tr>\n",
       "      <th>2637</th>\n",
       "      <td>1000</td>\n",
       "      <td>Manufacturing</td>\n",
       "      <td>M</td>\n",
       "      <td>60.0</td>\n",
       "      <td>China</td>\n",
       "      <td>1</td>\n",
       "    </tr>\n",
       "  </tbody>\n",
       "</table>\n",
       "<p>634 rows × 6 columns</p>\n",
       "</div>"
      ],
      "text/plain": [
       "      finalWorth             industries gender   age        country  y\n",
       "2         114000             Technology      M  59.0  United States  1\n",
       "3         107000             Technology      M  78.0  United States  1\n",
       "4         106000  Finance & Investments      M  92.0  United States  1\n",
       "5         104000             Technology      M  67.0  United States  1\n",
       "9          80700             Technology      M  67.0  United States  1\n",
       "...          ...                    ...    ...   ...            ... ..\n",
       "2613        1000             Technology      F  68.0  United States  1\n",
       "2614        1000             Technology      M  73.0  United States  1\n",
       "2632        1000          Manufacturing      M  59.0          China  1\n",
       "2633        1000          Manufacturing      M  53.0          China  1\n",
       "2637        1000          Manufacturing      M  60.0          China  1\n",
       "\n",
       "[634 rows x 6 columns]"
      ]
     },
     "execution_count": 94,
     "metadata": {},
     "output_type": "execute_result"
    }
   ],
   "source": [
    "df['y']=df['selfMade'].replace({True:1, False:0})\n",
    "df = df2.drop('selfMade', axis = 1)\n",
    "df"
   ]
  },
  {
   "cell_type": "code",
   "execution_count": 95,
   "metadata": {},
   "outputs": [],
   "source": [
    "import warnings\n",
    "from sklearn.exceptions import ConvergenceWarning\n",
    "# Ignore scikit-learn ConvergenceWarnings\n",
    "warnings.filterwarnings(\"ignore\", category=ConvergenceWarning)\n",
    "warnings.filterwarnings(\"ignore\", category=UserWarning)\n"
   ]
  },
  {
   "cell_type": "code",
   "execution_count": 96,
   "metadata": {},
   "outputs": [
    {
     "data": {
      "text/plain": [
       "<seaborn.axisgrid.FacetGrid at 0x29e129410>"
      ]
     },
     "execution_count": 96,
     "metadata": {},
     "output_type": "execute_result"
    },
    {
     "data": {
      "image/png": "[encoded data removed]",
      "text/plain": [
       "<Figure size 646.5x500 with 1 Axes>"
      ]
     },
     "metadata": {},
     "output_type": "display_data"
    }
   ],
   "source": [
    "sns.lmplot(x='age',y='y',hue='country',data=df,logistic=True,ci=False)"
   ]
  },
  {
   "cell_type": "code",
   "execution_count": 97,
   "metadata": {},
   "outputs": [
    {
     "data": {
      "text/plain": [
       "<seaborn.axisgrid.FacetGrid at 0x29fd911d0>"
      ]
     },
     "execution_count": 97,
     "metadata": {},
     "output_type": "execute_result"
    },
    {
     "data": {
      "image/png": "[encoded data removed]",
      "text/plain": [
       "<Figure size 710.125x500 with 1 Axes>"
      ]
     },
     "metadata": {},
     "output_type": "display_data"
    }
   ],
   "source": [
    "sns.lmplot(x='age',y='y',hue='industries',data=df,logistic=True,ci=False)"
   ]
  },
  {
   "cell_type": "code",
   "execution_count": 98,
   "metadata": {},
   "outputs": [
    {
     "data": {
      "text/plain": [
       "<seaborn.axisgrid.FacetGrid at 0x29fe10ad0>"
      ]
     },
     "execution_count": 98,
     "metadata": {},
     "output_type": "execute_result"
    },
    {
     "data": {
      "image/png": "[encoded data removed]",
      "text/plain": [
       "<Figure size 567.625x500 with 1 Axes>"
      ]
     },
     "metadata": {},
     "output_type": "display_data"
    }
   ],
   "source": [
    "sns.lmplot(x='age',y='y',hue='gender',data=df,logistic=True,ci=False)"
   ]
  },
  {
   "cell_type": "code",
   "execution_count": 99,
   "metadata": {},
   "outputs": [
    {
     "data": {
      "text/plain": [
       "<seaborn.axisgrid.FacetGrid at 0x2a00012d0>"
      ]
     },
     "execution_count": 99,
     "metadata": {},
     "output_type": "execute_result"
    },
    {
     "data": {
      "image/png": "[encoded data removed]",
      "text/plain": [
       "<Figure size 646.5x500 with 1 Axes>"
      ]
     },
     "metadata": {},
     "output_type": "display_data"
    }
   ],
   "source": [
    "sns.lmplot(x='finalWorth',y='y',hue='country',data=df,logistic=True,ci=False)"
   ]
  },
  {
   "cell_type": "code",
   "execution_count": 100,
   "metadata": {},
   "outputs": [
    {
     "data": {
      "text/plain": [
       "<seaborn.axisgrid.FacetGrid at 0x2a0021410>"
      ]
     },
     "execution_count": 100,
     "metadata": {},
     "output_type": "execute_result"
    },
    {
     "data": {
      "image/png": "[encoded data removed]",
      "text/plain": [
       "<Figure size 710.125x500 with 1 Axes>"
      ]
     },
     "metadata": {},
     "output_type": "display_data"
    }
   ],
   "source": [
    "sns.lmplot(x='finalWorth',y='y',hue='industries',data=df,logistic=True,ci=False)"
   ]
  },
  {
   "cell_type": "code",
   "execution_count": 101,
   "metadata": {},
   "outputs": [
    {
     "data": {
      "text/plain": [
       "<seaborn.axisgrid.FacetGrid at 0x29fe60bd0>"
      ]
     },
     "execution_count": 101,
     "metadata": {},
     "output_type": "execute_result"
    },
    {
     "data": {
      "image/png": "[encoded data removed]",
      "text/plain": [
       "<Figure size 567.625x500 with 1 Axes>"
      ]
     },
     "metadata": {},
     "output_type": "display_data"
    }
   ],
   "source": [
    "sns.lmplot(x='finalWorth',y='y',hue='gender',data=df2,logistic=True,ci=False)"
   ]
  },
  {
   "cell_type": "code",
   "execution_count": 102,
   "metadata": {},
   "outputs": [
    {
     "name": "stdout",
     "output_type": "stream",
     "text": [
      "Optimization terminated successfully.\n",
      "         Current function value: 0.265795\n",
      "         Iterations 7\n"
     ]
    },
    {
     "data": {
      "text/html": [
       "<table class=\"simpletable\">\n",
       "<tr>\n",
       "      <td></td>         <th>coef</th>     <th>std err</th>      <th>z</th>      <th>P>|z|</th>  <th>[0.025</th>    <th>0.975]</th>  \n",
       "</tr>\n",
       "<tr>\n",
       "  <th>Intercept</th> <td>    6.0089</td> <td>    0.841</td> <td>    7.146</td> <td> 0.000</td> <td>    4.361</td> <td>    7.657</td>\n",
       "</tr>\n",
       "<tr>\n",
       "  <th>age</th>       <td>   -0.0552</td> <td>    0.012</td> <td>   -4.593</td> <td> 0.000</td> <td>   -0.079</td> <td>   -0.032</td>\n",
       "</tr>\n",
       "</table>"
      ],
      "text/latex": [
       "\\begin{center}\n",
       "\\begin{tabular}{lcccccc}\n",
       "\\toprule\n",
       "                   & \\textbf{coef} & \\textbf{std err} & \\textbf{z} & \\textbf{P$> |$z$|$} & \\textbf{[0.025} & \\textbf{0.975]}  \\\\\n",
       "\\midrule\n",
       "\\textbf{Intercept} &       6.0089  &        0.841     &     7.146  &         0.000        &        4.361    &        7.657     \\\\\n",
       "\\textbf{age}       &      -0.0552  &        0.012     &    -4.593  &         0.000        &       -0.079    &       -0.032     \\\\\n",
       "\\bottomrule\n",
       "\\end{tabular}\n",
       "\\end{center}"
      ],
      "text/plain": [
       "<class 'statsmodels.iolib.table.SimpleTable'>"
      ]
     },
     "metadata": {},
     "output_type": "display_data"
    },
    {
     "name": "stdout",
     "output_type": "stream",
     "text": [
      "Optimization terminated successfully.\n",
      "         Current function value: 0.621538\n",
      "         Iterations 5\n"
     ]
    },
    {
     "data": {
      "text/html": [
       "<table class=\"simpletable\">\n",
       "<tr>\n",
       "      <td></td>         <th>coef</th>     <th>std err</th>      <th>z</th>      <th>P>|z|</th>  <th>[0.025</th>    <th>0.975]</th>  \n",
       "</tr>\n",
       "<tr>\n",
       "  <th>Intercept</th> <td>    5.0212</td> <td>    2.013</td> <td>    2.494</td> <td> 0.013</td> <td>    1.075</td> <td>    8.967</td>\n",
       "</tr>\n",
       "<tr>\n",
       "  <th>age</th>       <td>   -0.0757</td> <td>    0.031</td> <td>   -2.433</td> <td> 0.015</td> <td>   -0.137</td> <td>   -0.015</td>\n",
       "</tr>\n",
       "</table>"
      ],
      "text/latex": [
       "\\begin{center}\n",
       "\\begin{tabular}{lcccccc}\n",
       "\\toprule\n",
       "                   & \\textbf{coef} & \\textbf{std err} & \\textbf{z} & \\textbf{P$> |$z$|$} & \\textbf{[0.025} & \\textbf{0.975]}  \\\\\n",
       "\\midrule\n",
       "\\textbf{Intercept} &       5.0212  &        2.013     &     2.494  &         0.013        &        1.075    &        8.967     \\\\\n",
       "\\textbf{age}       &      -0.0757  &        0.031     &    -2.433  &         0.015        &       -0.137    &       -0.015     \\\\\n",
       "\\bottomrule\n",
       "\\end{tabular}\n",
       "\\end{center}"
      ],
      "text/plain": [
       "<class 'statsmodels.iolib.table.SimpleTable'>"
      ]
     },
     "metadata": {},
     "output_type": "display_data"
    }
   ],
   "source": [
    "gender_age_model1 =smf.logit('y~age+gender', data = df[df['gender'] == 'M']).fit()\n",
    "display(gender_age_model1.summary().tables[1])\n",
    "gender_age_model2 =smf.logit('y~age+gender', data = df[df['gender'] == 'F']).fit()\n",
    "display(gender_age_model2.summary().tables[1])"
   ]
  },
  {
   "cell_type": "markdown",
   "metadata": {},
   "source": [
    "#### Discussion"
   ]
  },
  {
   "cell_type": "markdown",
   "metadata": {},
   "source": [
    "When checking for interaction terms, I observed significant slope variability in the plots. To simplify the process, I selected one slope from each plot that stood out the most as an interaction term.  \n",
    "\n",
    "* In the first plot, the Germany slope was the most distinct from the others (which still varied but not as dramatically). Therefore, I created an interaction term between age and Germany.  \n",
    "* In the second plot, the Healthcare slope differed the most from the rest, so I created an interaction term between age and Healthcare.  \n",
    "* In the third plot, the slopes were relatively similar, so I did not select an interaction variable.  \n",
    "* In the next two plots, while there was significant slope variability, I did not find one slope that stood out as the most different, so I did not choose any interaction variables.  \n",
    "* In the final plot, there was considerable variability between the gender slopes. Therefore, I created interaction terms between finalWorth and Male and finalWorth and Female.  \n",
    "\n",
    "These four interaction variables were selected as they captured the most notable differences. I also confirmed these choices using a numerical method by fitting logistic models and calculating the corresponding slopes. This numerical method is displayed above for the first two plots.  \n",
    "\n",
    "In the interest of time and readability, I did not repeat this process for every single plot, but the approach would be the same and supports my interaction term selections. The next step is to fit the model."
   ]
  },
  {
   "cell_type": "markdown",
   "metadata": {},
   "source": [
    "## 5. Model Data Preprocessing"
   ]
  },
  {
   "cell_type": "markdown",
   "metadata": {},
   "source": [
    "For part 5, I created our 0/1 response variable, created our matrix and target array, and scaled our numerical variable."
   ]
  },
  {
   "cell_type": "code",
   "execution_count": 103,
   "metadata": {},
   "outputs": [
    {
     "data": {
      "text/html": [
       "<div>\n",
       "<style scoped>\n",
       "    .dataframe tbody tr th:only-of-type {\n",
       "        vertical-align: middle;\n",
       "    }\n",
       "\n",
       "    .dataframe tbody tr th {\n",
       "        vertical-align: top;\n",
       "    }\n",
       "\n",
       "    .dataframe thead th {\n",
       "        text-align: right;\n",
       "    }\n",
       "</style>\n",
       "<table border=\"1\" class=\"dataframe\">\n",
       "  <thead>\n",
       "    <tr style=\"text-align: right;\">\n",
       "      <th></th>\n",
       "      <th>finalWorth</th>\n",
       "      <th>industries</th>\n",
       "      <th>gender</th>\n",
       "      <th>age</th>\n",
       "      <th>country</th>\n",
       "    </tr>\n",
       "  </thead>\n",
       "  <tbody>\n",
       "    <tr>\n",
       "      <th>2</th>\n",
       "      <td>114000</td>\n",
       "      <td>Technology</td>\n",
       "      <td>M</td>\n",
       "      <td>59.0</td>\n",
       "      <td>United States</td>\n",
       "    </tr>\n",
       "    <tr>\n",
       "      <th>3</th>\n",
       "      <td>107000</td>\n",
       "      <td>Technology</td>\n",
       "      <td>M</td>\n",
       "      <td>78.0</td>\n",
       "      <td>United States</td>\n",
       "    </tr>\n",
       "    <tr>\n",
       "      <th>4</th>\n",
       "      <td>106000</td>\n",
       "      <td>Finance &amp; Investments</td>\n",
       "      <td>M</td>\n",
       "      <td>92.0</td>\n",
       "      <td>United States</td>\n",
       "    </tr>\n",
       "    <tr>\n",
       "      <th>5</th>\n",
       "      <td>104000</td>\n",
       "      <td>Technology</td>\n",
       "      <td>M</td>\n",
       "      <td>67.0</td>\n",
       "      <td>United States</td>\n",
       "    </tr>\n",
       "    <tr>\n",
       "      <th>9</th>\n",
       "      <td>80700</td>\n",
       "      <td>Technology</td>\n",
       "      <td>M</td>\n",
       "      <td>67.0</td>\n",
       "      <td>United States</td>\n",
       "    </tr>\n",
       "    <tr>\n",
       "      <th>...</th>\n",
       "      <td>...</td>\n",
       "      <td>...</td>\n",
       "      <td>...</td>\n",
       "      <td>...</td>\n",
       "      <td>...</td>\n",
       "    </tr>\n",
       "    <tr>\n",
       "      <th>2613</th>\n",
       "      <td>1000</td>\n",
       "      <td>Technology</td>\n",
       "      <td>F</td>\n",
       "      <td>68.0</td>\n",
       "      <td>United States</td>\n",
       "    </tr>\n",
       "    <tr>\n",
       "      <th>2614</th>\n",
       "      <td>1000</td>\n",
       "      <td>Technology</td>\n",
       "      <td>M</td>\n",
       "      <td>73.0</td>\n",
       "      <td>United States</td>\n",
       "    </tr>\n",
       "    <tr>\n",
       "      <th>2632</th>\n",
       "      <td>1000</td>\n",
       "      <td>Manufacturing</td>\n",
       "      <td>M</td>\n",
       "      <td>59.0</td>\n",
       "      <td>China</td>\n",
       "    </tr>\n",
       "    <tr>\n",
       "      <th>2633</th>\n",
       "      <td>1000</td>\n",
       "      <td>Manufacturing</td>\n",
       "      <td>M</td>\n",
       "      <td>53.0</td>\n",
       "      <td>China</td>\n",
       "    </tr>\n",
       "    <tr>\n",
       "      <th>2637</th>\n",
       "      <td>1000</td>\n",
       "      <td>Manufacturing</td>\n",
       "      <td>M</td>\n",
       "      <td>60.0</td>\n",
       "      <td>China</td>\n",
       "    </tr>\n",
       "  </tbody>\n",
       "</table>\n",
       "<p>634 rows × 5 columns</p>\n",
       "</div>"
      ],
      "text/plain": [
       "      finalWorth             industries gender   age        country\n",
       "2         114000             Technology      M  59.0  United States\n",
       "3         107000             Technology      M  78.0  United States\n",
       "4         106000  Finance & Investments      M  92.0  United States\n",
       "5         104000             Technology      M  67.0  United States\n",
       "9          80700             Technology      M  67.0  United States\n",
       "...          ...                    ...    ...   ...            ...\n",
       "2613        1000             Technology      F  68.0  United States\n",
       "2614        1000             Technology      M  73.0  United States\n",
       "2632        1000          Manufacturing      M  59.0          China\n",
       "2633        1000          Manufacturing      M  53.0          China\n",
       "2637        1000          Manufacturing      M  60.0          China\n",
       "\n",
       "[634 rows x 5 columns]"
      ]
     },
     "execution_count": 103,
     "metadata": {},
     "output_type": "execute_result"
    }
   ],
   "source": [
    "features=df.drop(['y'],axis=1)\n",
    "features"
   ]
  },
  {
   "cell_type": "code",
   "execution_count": 141,
   "metadata": {},
   "outputs": [
    {
     "data": {
      "text/plain": [
       "2       1\n",
       "3       1\n",
       "4       1\n",
       "5       1\n",
       "9       1\n",
       "       ..\n",
       "2613    1\n",
       "2614    1\n",
       "2632    1\n",
       "2633    1\n",
       "2637    1\n",
       "Name: y, Length: 634, dtype: int64"
      ]
     },
     "execution_count": 141,
     "metadata": {},
     "output_type": "execute_result"
    }
   ],
   "source": [
    "y=df['y']\n",
    "y"
   ]
  },
  {
   "cell_type": "code",
   "execution_count": 105,
   "metadata": {},
   "outputs": [
    {
     "data": {
      "text/html": [
       "<div>\n",
       "<style scoped>\n",
       "    .dataframe tbody tr th:only-of-type {\n",
       "        vertical-align: middle;\n",
       "    }\n",
       "\n",
       "    .dataframe tbody tr th {\n",
       "        vertical-align: top;\n",
       "    }\n",
       "\n",
       "    .dataframe thead th {\n",
       "        text-align: right;\n",
       "    }\n",
       "</style>\n",
       "<table border=\"1\" class=\"dataframe\">\n",
       "  <thead>\n",
       "    <tr style=\"text-align: right;\">\n",
       "      <th></th>\n",
       "      <th>finalWorth</th>\n",
       "      <th>age</th>\n",
       "      <th>industries_Manufacturing</th>\n",
       "      <th>industries_Technology</th>\n",
       "      <th>gender_M</th>\n",
       "      <th>country_India</th>\n",
       "      <th>country_United States</th>\n",
       "    </tr>\n",
       "  </thead>\n",
       "  <tbody>\n",
       "    <tr>\n",
       "      <th>2</th>\n",
       "      <td>9.756997</td>\n",
       "      <td>-0.217417</td>\n",
       "      <td>0</td>\n",
       "      <td>1</td>\n",
       "      <td>1</td>\n",
       "      <td>0</td>\n",
       "      <td>1</td>\n",
       "    </tr>\n",
       "    <tr>\n",
       "      <th>3</th>\n",
       "      <td>9.130095</td>\n",
       "      <td>1.282584</td>\n",
       "      <td>0</td>\n",
       "      <td>1</td>\n",
       "      <td>1</td>\n",
       "      <td>0</td>\n",
       "      <td>1</td>\n",
       "    </tr>\n",
       "    <tr>\n",
       "      <th>4</th>\n",
       "      <td>9.040537</td>\n",
       "      <td>2.387848</td>\n",
       "      <td>0</td>\n",
       "      <td>0</td>\n",
       "      <td>1</td>\n",
       "      <td>0</td>\n",
       "      <td>1</td>\n",
       "    </tr>\n",
       "    <tr>\n",
       "      <th>5</th>\n",
       "      <td>8.861422</td>\n",
       "      <td>0.414163</td>\n",
       "      <td>0</td>\n",
       "      <td>1</td>\n",
       "      <td>1</td>\n",
       "      <td>0</td>\n",
       "      <td>1</td>\n",
       "    </tr>\n",
       "    <tr>\n",
       "      <th>9</th>\n",
       "      <td>6.774731</td>\n",
       "      <td>0.414163</td>\n",
       "      <td>0</td>\n",
       "      <td>1</td>\n",
       "      <td>1</td>\n",
       "      <td>0</td>\n",
       "      <td>1</td>\n",
       "    </tr>\n",
       "    <tr>\n",
       "      <th>...</th>\n",
       "      <td>...</td>\n",
       "      <td>...</td>\n",
       "      <td>...</td>\n",
       "      <td>...</td>\n",
       "      <td>...</td>\n",
       "      <td>...</td>\n",
       "      <td>...</td>\n",
       "    </tr>\n",
       "    <tr>\n",
       "      <th>2613</th>\n",
       "      <td>-0.363005</td>\n",
       "      <td>0.493110</td>\n",
       "      <td>0</td>\n",
       "      <td>1</td>\n",
       "      <td>0</td>\n",
       "      <td>0</td>\n",
       "      <td>1</td>\n",
       "    </tr>\n",
       "    <tr>\n",
       "      <th>2614</th>\n",
       "      <td>-0.363005</td>\n",
       "      <td>0.887847</td>\n",
       "      <td>0</td>\n",
       "      <td>1</td>\n",
       "      <td>1</td>\n",
       "      <td>0</td>\n",
       "      <td>1</td>\n",
       "    </tr>\n",
       "    <tr>\n",
       "      <th>2632</th>\n",
       "      <td>-0.363005</td>\n",
       "      <td>-0.217417</td>\n",
       "      <td>1</td>\n",
       "      <td>0</td>\n",
       "      <td>1</td>\n",
       "      <td>0</td>\n",
       "      <td>0</td>\n",
       "    </tr>\n",
       "    <tr>\n",
       "      <th>2633</th>\n",
       "      <td>-0.363005</td>\n",
       "      <td>-0.691101</td>\n",
       "      <td>1</td>\n",
       "      <td>0</td>\n",
       "      <td>1</td>\n",
       "      <td>0</td>\n",
       "      <td>0</td>\n",
       "    </tr>\n",
       "    <tr>\n",
       "      <th>2637</th>\n",
       "      <td>-0.363005</td>\n",
       "      <td>-0.138469</td>\n",
       "      <td>1</td>\n",
       "      <td>0</td>\n",
       "      <td>1</td>\n",
       "      <td>0</td>\n",
       "      <td>0</td>\n",
       "    </tr>\n",
       "  </tbody>\n",
       "</table>\n",
       "<p>634 rows × 7 columns</p>\n",
       "</div>"
      ],
      "text/plain": [
       "      finalWorth       age  industries_Manufacturing  industries_Technology  \\\n",
       "2       9.756997 -0.217417                         0                      1   \n",
       "3       9.130095  1.282584                         0                      1   \n",
       "4       9.040537  2.387848                         0                      0   \n",
       "5       8.861422  0.414163                         0                      1   \n",
       "9       6.774731  0.414163                         0                      1   \n",
       "...          ...       ...                       ...                    ...   \n",
       "2613   -0.363005  0.493110                         0                      1   \n",
       "2614   -0.363005  0.887847                         0                      1   \n",
       "2632   -0.363005 -0.217417                         1                      0   \n",
       "2633   -0.363005 -0.691101                         1                      0   \n",
       "2637   -0.363005 -0.138469                         1                      0   \n",
       "\n",
       "      gender_M  country_India  country_United States  \n",
       "2            1              0                      1  \n",
       "3            1              0                      1  \n",
       "4            1              0                      1  \n",
       "5            1              0                      1  \n",
       "9            1              0                      1  \n",
       "...        ...            ...                    ...  \n",
       "2613         0              0                      1  \n",
       "2614         1              0                      1  \n",
       "2632         1              0                      0  \n",
       "2633         1              0                      0  \n",
       "2637         1              0                      0  \n",
       "\n",
       "[634 rows x 7 columns]"
      ]
     },
     "execution_count": 105,
     "metadata": {},
     "output_type": "execute_result"
    }
   ],
   "source": [
    "from sklearn.preprocessing import StandardScaler\n",
    "num_col = ['finalWorth', 'age']\n",
    "scaler=StandardScaler()\n",
    "scaled_exp_vars = scaler.fit_transform(features[num_col])\n",
    "df[num_col] = scaled_exp_vars\n",
    "features[num_col] = scaled_exp_vars\n",
    "features = pd.get_dummies(features, drop_first=True, dtype=int)\n",
    "features"
   ]
  },
  {
   "cell_type": "markdown",
   "metadata": {},
   "source": [
    "## 6. Feature Selection with k-Fold Cross-Validation"
   ]
  },
  {
   "cell_type": "markdown",
   "metadata": {},
   "source": [
    "Utilizing a 5-fold k-fold cross-validation of our dataset, I undertook a two-step feature selection process in order to discover the most optimizable model. This began with backwards elimination, with the full model having the highest average AUC score in round one. To solidify the results, I decided to conduct additional feature selection through forwards selection. This resulted in three rounds, with the highest AUC resulting in a score of 0.85. \n",
    "\n",
    "After performing both elminiations however, I came to the conclusion that the full model is still the best because it has the highest mean AUC score."
   ]
  },
  {
   "cell_type": "markdown",
   "metadata": {},
   "source": [
    "### **Backwards Elimination**"
   ]
  },
  {
   "cell_type": "code",
   "execution_count": 106,
   "metadata": {},
   "outputs": [],
   "source": [
    "cross_val = KFold(n_splits = 5, shuffle = True, random_state = 207)"
   ]
  },
  {
   "cell_type": "code",
   "execution_count": 107,
   "metadata": {},
   "outputs": [
    {
     "data": {
      "text/plain": [
       "0.8604212072921603"
      ]
     },
     "execution_count": 107,
     "metadata": {},
     "output_type": "execute_result"
    }
   ],
   "source": [
    "full_mod = LogisticRegression()\n",
    "full_mod.fit(features,y)\n",
    "auc = cross_val_score(full_mod, features, y, cv=cross_val, scoring=\"roc_auc\")\n",
    "auc.mean()"
   ]
  },
  {
   "cell_type": "markdown",
   "metadata": {},
   "source": [
    "#### ^ Full Model the highest"
   ]
  },
  {
   "cell_type": "code",
   "execution_count": 108,
   "metadata": {},
   "outputs": [
    {
     "data": {
      "text/plain": [
       "0.8017594608074846"
      ]
     },
     "execution_count": 108,
     "metadata": {},
     "output_type": "execute_result"
    }
   ],
   "source": [
    "features_red1 = features[['finalWorth', 'age','industries_Manufacturing', 'industries_Technology', 'gender_M']]\n",
    "auc1 = cross_val_score(full_mod, features_red1, y, cv=cross_val, scoring=\"roc_auc\")\n",
    "auc1.mean()"
   ]
  },
  {
   "cell_type": "code",
   "execution_count": 109,
   "metadata": {},
   "outputs": [
    {
     "data": {
      "text/plain": [
       "0.7979832194696136"
      ]
     },
     "execution_count": 109,
     "metadata": {},
     "output_type": "execute_result"
    }
   ],
   "source": [
    "features_red2 = features[['finalWorth', 'age','industries_Manufacturing', 'industries_Technology', 'country_India', 'country_United States']]\n",
    "auc2 = cross_val_score(full_mod, features_red2, y, cv=cross_val, scoring=\"roc_auc\")\n",
    "auc2.mean()"
   ]
  },
  {
   "cell_type": "code",
   "execution_count": 110,
   "metadata": {},
   "outputs": [
    {
     "data": {
      "text/plain": [
       "0.8418352783712171"
      ]
     },
     "execution_count": 110,
     "metadata": {},
     "output_type": "execute_result"
    }
   ],
   "source": [
    "features_red3 = features[['finalWorth', 'age', 'gender_M', 'country_India', 'country_United States']]\n",
    "auc3 = cross_val_score(full_mod, features_red3, y, cv=cross_val, scoring=\"roc_auc\")\n",
    "auc3.mean()"
   ]
  },
  {
   "cell_type": "code",
   "execution_count": 111,
   "metadata": {},
   "outputs": [
    {
     "data": {
      "text/plain": [
       "0.8389544081166166"
      ]
     },
     "execution_count": 111,
     "metadata": {},
     "output_type": "execute_result"
    }
   ],
   "source": [
    "features_red4 = features[['finalWorth','industries_Manufacturing', 'industries_Technology', 'gender_M', 'country_India', 'country_United States']]\n",
    "auc4 = cross_val_score(full_mod, features_red4, y, cv=cross_val, scoring=\"roc_auc\")\n",
    "auc4.mean()"
   ]
  },
  {
   "cell_type": "code",
   "execution_count": 112,
   "metadata": {},
   "outputs": [
    {
     "data": {
      "text/plain": [
       "0.8600160945629576"
      ]
     },
     "execution_count": 112,
     "metadata": {},
     "output_type": "execute_result"
    }
   ],
   "source": [
    "features_red5 = features[['age','industries_Manufacturing', 'industries_Technology', 'gender_M', 'country_India', 'country_United States']]\n",
    "auc5 = cross_val_score(full_mod, features_red5, y, cv=cross_val, scoring=\"roc_auc\")\n",
    "auc5.mean()"
   ]
  },
  {
   "cell_type": "markdown",
   "metadata": {},
   "source": [
    "### **Forwards Elimination**"
   ]
  },
  {
   "cell_type": "markdown",
   "metadata": {},
   "source": [
    "### Round 1"
   ]
  },
  {
   "cell_type": "code",
   "execution_count": 113,
   "metadata": {},
   "outputs": [
    {
     "data": {
      "text/plain": [
       "0.40175352701483674"
      ]
     },
     "execution_count": 113,
     "metadata": {},
     "output_type": "execute_result"
    }
   ],
   "source": [
    "features_1 = features[['finalWorth']]\n",
    "auc11 =cross_val_score(full_mod, features_1, y, cv=cross_val, scoring=\"roc_auc\")\n",
    "auc11.mean()"
   ]
  },
  {
   "cell_type": "code",
   "execution_count": 114,
   "metadata": {},
   "outputs": [
    {
     "data": {
      "text/plain": [
       "0.7030692819863207"
      ]
     },
     "execution_count": 114,
     "metadata": {},
     "output_type": "execute_result"
    }
   ],
   "source": [
    "features_2 = features[['age']]\n",
    "auc22 =cross_val_score(full_mod, features_2, y, cv=cross_val, scoring=\"roc_auc\")\n",
    "auc22.mean()"
   ]
  },
  {
   "cell_type": "code",
   "execution_count": 115,
   "metadata": {},
   "outputs": [
    {
     "data": {
      "text/plain": [
       "0.6549160396240993"
      ]
     },
     "execution_count": 115,
     "metadata": {},
     "output_type": "execute_result"
    }
   ],
   "source": [
    "features_3 = features[['industries_Manufacturing', 'industries_Technology']]\n",
    "auc33 =cross_val_score(full_mod, features_3, y, cv=cross_val, scoring=\"roc_auc\")\n",
    "auc33.mean()"
   ]
  },
  {
   "cell_type": "code",
   "execution_count": 116,
   "metadata": {},
   "outputs": [
    {
     "data": {
      "text/plain": [
       "0.641986021165437"
      ]
     },
     "execution_count": 116,
     "metadata": {},
     "output_type": "execute_result"
    }
   ],
   "source": [
    "features_4 = features[['gender_M']]\n",
    "auc44 =cross_val_score(full_mod, features_4, y, cv=cross_val, scoring=\"roc_auc\")\n",
    "auc44.mean()"
   ]
  },
  {
   "cell_type": "code",
   "execution_count": 117,
   "metadata": {},
   "outputs": [
    {
     "data": {
      "text/plain": [
       "0.7245309552794676"
      ]
     },
     "execution_count": 117,
     "metadata": {},
     "output_type": "execute_result"
    }
   ],
   "source": [
    "features_5 = features[['country_India', 'country_United States']]\n",
    "auc55 =cross_val_score(full_mod, features_5, y, cv=cross_val, scoring=\"roc_auc\")\n",
    "auc55.mean()"
   ]
  },
  {
   "cell_type": "markdown",
   "metadata": {},
   "source": [
    "#### ^ Highest AUC"
   ]
  },
  {
   "cell_type": "markdown",
   "metadata": {},
   "source": [
    "### Round 2"
   ]
  },
  {
   "cell_type": "code",
   "execution_count": 118,
   "metadata": {},
   "outputs": [
    {
     "data": {
      "text/plain": [
       "0.8053658466192115"
      ]
     },
     "execution_count": 118,
     "metadata": {},
     "output_type": "execute_result"
    }
   ],
   "source": [
    "features_6 = features[['gender_M','country_India', 'country_United States']]\n",
    "auc66 =cross_val_score(full_mod, features_6, y, cv=cross_val, scoring=\"roc_auc\")\n",
    "auc66.mean()"
   ]
  },
  {
   "cell_type": "markdown",
   "metadata": {},
   "source": [
    "#### ^ Highest AUC"
   ]
  },
  {
   "cell_type": "code",
   "execution_count": 119,
   "metadata": {},
   "outputs": [
    {
     "data": {
      "text/plain": [
       "0.7840603870547251"
      ]
     },
     "execution_count": 119,
     "metadata": {},
     "output_type": "execute_result"
    }
   ],
   "source": [
    "features_7 = features[['industries_Manufacturing', 'industries_Technology', 'country_India', 'country_United States']]\n",
    "auc77 =cross_val_score(full_mod, features_7, y, cv=cross_val, scoring=\"roc_auc\")\n",
    "auc77.mean()"
   ]
  },
  {
   "cell_type": "code",
   "execution_count": 120,
   "metadata": {},
   "outputs": [
    {
     "data": {
      "text/plain": [
       "0.7781675915975063"
      ]
     },
     "execution_count": 120,
     "metadata": {},
     "output_type": "execute_result"
    }
   ],
   "source": [
    "features_8 = features[['age','country_India', 'country_United States']]\n",
    "auc88 =cross_val_score(full_mod, features_8, y, cv=cross_val, scoring=\"roc_auc\")\n",
    "auc88.mean()"
   ]
  },
  {
   "cell_type": "code",
   "execution_count": 121,
   "metadata": {},
   "outputs": [
    {
     "data": {
      "text/plain": [
       "0.6977474371556841"
      ]
     },
     "execution_count": 121,
     "metadata": {},
     "output_type": "execute_result"
    }
   ],
   "source": [
    "features_9 = features[['finalWorth','country_India', 'country_United States']]\n",
    "auc99 =cross_val_score(full_mod, features_9, y, cv=cross_val, scoring=\"roc_auc\")\n",
    "auc99.mean()"
   ]
  },
  {
   "cell_type": "markdown",
   "metadata": {},
   "source": [
    "### Round 3"
   ]
  },
  {
   "cell_type": "code",
   "execution_count": 122,
   "metadata": {},
   "outputs": [
    {
     "data": {
      "text/plain": [
       "0.786971890741995"
      ]
     },
     "execution_count": 122,
     "metadata": {},
     "output_type": "execute_result"
    }
   ],
   "source": [
    "features_11 = features[['finalWorth','gender_M','country_India', 'country_United States']]\n",
    "auc1111 =cross_val_score(full_mod, features_11, y, cv=cross_val, scoring=\"roc_auc\")\n",
    "auc1111.mean()"
   ]
  },
  {
   "cell_type": "code",
   "execution_count": 123,
   "metadata": {},
   "outputs": [
    {
     "data": {
      "text/plain": [
       "0.8378244716241872"
      ]
     },
     "execution_count": 123,
     "metadata": {},
     "output_type": "execute_result"
    }
   ],
   "source": [
    "features_12 = features[['age','gender_M','country_India', 'country_United States']]\n",
    "auc1212 =cross_val_score(full_mod, features_12, y, cv=cross_val, scoring=\"roc_auc\")\n",
    "auc1212.mean()"
   ]
  },
  {
   "cell_type": "code",
   "execution_count": 124,
   "metadata": {},
   "outputs": [
    {
     "data": {
      "text/plain": [
       "0.8508958767800825"
      ]
     },
     "execution_count": 124,
     "metadata": {},
     "output_type": "execute_result"
    }
   ],
   "source": [
    "features_13 = features[['industries_Manufacturing', 'industries_Technology','gender_M','country_India', 'country_United States']]\n",
    "auc1313 =cross_val_score(full_mod, features_13, y, cv=cross_val, scoring=\"roc_auc\")\n",
    "auc1313.mean()"
   ]
  },
  {
   "cell_type": "markdown",
   "metadata": {},
   "source": [
    "#### ^ Highest AUC, HOWEVER"
   ]
  },
  {
   "cell_type": "code",
   "execution_count": 125,
   "metadata": {},
   "outputs": [
    {
     "name": "stdout",
     "output_type": "stream",
     "text": [
      "Full model AUC: 0.8604212072921603\n"
     ]
    }
   ],
   "source": [
    "print(\"Full model AUC:\", auc.mean())"
   ]
  },
  {
   "cell_type": "markdown",
   "metadata": {},
   "source": [
    "#### **Full Model is still higher**"
   ]
  },
  {
   "cell_type": "markdown",
   "metadata": {},
   "source": [
    "The full model is still the best option, with an AUC score 0.86"
   ]
  },
  {
   "cell_type": "markdown",
   "metadata": {},
   "source": [
    "## 7. Best Model Discussion"
   ]
  },
  {
   "cell_type": "markdown",
   "metadata": {},
   "source": [
    "As mentioned previously, the best model found through my feature selection analysis was simply the full model with all five explanatory variables. When looking at the correlation between the two numerical variables, there does not appear to be any issues with multicollinearity; however, I only discussed one-dimensional results, and going into further dimensions may result in differing conclusions. Because the relationship between the two variables was nonlinear, I cannot use the correlation results as an indicator of strength. Additionally, because I scaled the numerical variables, I can more confidently use any slope interpretations from this model (as the standard deviations of the numerical variables are equal).  \n",
    "\n",
    "When initially viewing the AUC score, I saw that the model produced a score of 0.894. Independently, this could indicate that the model is relatively effective at predicting if a billionaire is self-made based on the five explanatory variables. However, I wanted to seek out further analysis to verify the model’s interpretability, so I decided to analyze the model’s log likelihood (Part 8)."
   ]
  },
  {
   "cell_type": "markdown",
   "metadata": {},
   "source": [
    "#### Train/Test Split"
   ]
  },
  {
   "cell_type": "code",
   "execution_count": 126,
   "metadata": {},
   "outputs": [
    {
     "data": {
      "text/html": [
       "<div>\n",
       "<style scoped>\n",
       "    .dataframe tbody tr th:only-of-type {\n",
       "        vertical-align: middle;\n",
       "    }\n",
       "\n",
       "    .dataframe tbody tr th {\n",
       "        vertical-align: top;\n",
       "    }\n",
       "\n",
       "    .dataframe thead th {\n",
       "        text-align: right;\n",
       "    }\n",
       "</style>\n",
       "<table border=\"1\" class=\"dataframe\">\n",
       "  <thead>\n",
       "    <tr style=\"text-align: right;\">\n",
       "      <th></th>\n",
       "      <th>finalWorth</th>\n",
       "      <th>industries</th>\n",
       "      <th>gender</th>\n",
       "      <th>age</th>\n",
       "      <th>country</th>\n",
       "      <th>y</th>\n",
       "    </tr>\n",
       "  </thead>\n",
       "  <tbody>\n",
       "    <tr>\n",
       "      <th>1413</th>\n",
       "      <td>-0.255536</td>\n",
       "      <td>Technology</td>\n",
       "      <td>M</td>\n",
       "      <td>0.414163</td>\n",
       "      <td>United States</td>\n",
       "      <td>1</td>\n",
       "    </tr>\n",
       "    <tr>\n",
       "      <th>356</th>\n",
       "      <td>0.156429</td>\n",
       "      <td>Finance &amp; Investments</td>\n",
       "      <td>M</td>\n",
       "      <td>-0.296364</td>\n",
       "      <td>United States</td>\n",
       "      <td>0</td>\n",
       "    </tr>\n",
       "    <tr>\n",
       "      <th>272</th>\n",
       "      <td>0.254942</td>\n",
       "      <td>Finance &amp; Investments</td>\n",
       "      <td>M</td>\n",
       "      <td>0.808900</td>\n",
       "      <td>United States</td>\n",
       "      <td>1</td>\n",
       "    </tr>\n",
       "    <tr>\n",
       "      <th>1657</th>\n",
       "      <td>-0.291359</td>\n",
       "      <td>Technology</td>\n",
       "      <td>M</td>\n",
       "      <td>-1.559523</td>\n",
       "      <td>United States</td>\n",
       "      <td>1</td>\n",
       "    </tr>\n",
       "    <tr>\n",
       "      <th>1381</th>\n",
       "      <td>-0.255536</td>\n",
       "      <td>Finance &amp; Investments</td>\n",
       "      <td>M</td>\n",
       "      <td>0.177320</td>\n",
       "      <td>United States</td>\n",
       "      <td>1</td>\n",
       "    </tr>\n",
       "  </tbody>\n",
       "</table>\n",
       "</div>"
      ],
      "text/plain": [
       "      finalWorth             industries gender       age        country  y\n",
       "1413   -0.255536             Technology      M  0.414163  United States  1\n",
       "356     0.156429  Finance & Investments      M -0.296364  United States  0\n",
       "272     0.254942  Finance & Investments      M  0.808900  United States  1\n",
       "1657   -0.291359             Technology      M -1.559523  United States  1\n",
       "1381   -0.255536  Finance & Investments      M  0.177320  United States  1"
      ]
     },
     "execution_count": 126,
     "metadata": {},
     "output_type": "execute_result"
    }
   ],
   "source": [
    "df_train, df_test = train_test_split(df, test_size=0.20, random_state=207)\n",
    "df_test.head()"
   ]
  },
  {
   "cell_type": "markdown",
   "metadata": {},
   "source": [
    "#### Features Matrix and Target Array"
   ]
  },
  {
   "cell_type": "code",
   "execution_count": 127,
   "metadata": {},
   "outputs": [
    {
     "data": {
      "text/html": [
       "<div>\n",
       "<style scoped>\n",
       "    .dataframe tbody tr th:only-of-type {\n",
       "        vertical-align: middle;\n",
       "    }\n",
       "\n",
       "    .dataframe tbody tr th {\n",
       "        vertical-align: top;\n",
       "    }\n",
       "\n",
       "    .dataframe thead th {\n",
       "        text-align: right;\n",
       "    }\n",
       "</style>\n",
       "<table border=\"1\" class=\"dataframe\">\n",
       "  <thead>\n",
       "    <tr style=\"text-align: right;\">\n",
       "      <th></th>\n",
       "      <th>finalWorth</th>\n",
       "      <th>age</th>\n",
       "      <th>industries_Manufacturing</th>\n",
       "      <th>industries_Technology</th>\n",
       "      <th>gender_M</th>\n",
       "      <th>country_India</th>\n",
       "      <th>country_United States</th>\n",
       "    </tr>\n",
       "  </thead>\n",
       "  <tbody>\n",
       "    <tr>\n",
       "      <th>286</th>\n",
       "      <td>0.263029</td>\n",
       "      <td>0.512479</td>\n",
       "      <td>0</td>\n",
       "      <td>1</td>\n",
       "      <td>1</td>\n",
       "      <td>0</td>\n",
       "      <td>1</td>\n",
       "    </tr>\n",
       "    <tr>\n",
       "      <th>1988</th>\n",
       "      <td>-0.337367</td>\n",
       "      <td>0.191110</td>\n",
       "      <td>0</td>\n",
       "      <td>1</td>\n",
       "      <td>1</td>\n",
       "      <td>0</td>\n",
       "      <td>1</td>\n",
       "    </tr>\n",
       "    <tr>\n",
       "      <th>2399</th>\n",
       "      <td>-0.366418</td>\n",
       "      <td>-1.174708</td>\n",
       "      <td>0</td>\n",
       "      <td>1</td>\n",
       "      <td>1</td>\n",
       "      <td>0</td>\n",
       "      <td>0</td>\n",
       "    </tr>\n",
       "    <tr>\n",
       "      <th>1823</th>\n",
       "      <td>-0.327683</td>\n",
       "      <td>0.432137</td>\n",
       "      <td>0</td>\n",
       "      <td>0</td>\n",
       "      <td>1</td>\n",
       "      <td>0</td>\n",
       "      <td>1</td>\n",
       "    </tr>\n",
       "    <tr>\n",
       "      <th>362</th>\n",
       "      <td>0.175875</td>\n",
       "      <td>-0.290943</td>\n",
       "      <td>0</td>\n",
       "      <td>1</td>\n",
       "      <td>1</td>\n",
       "      <td>0</td>\n",
       "      <td>0</td>\n",
       "    </tr>\n",
       "  </tbody>\n",
       "</table>\n",
       "</div>"
      ],
      "text/plain": [
       "      finalWorth       age  industries_Manufacturing  industries_Technology  \\\n",
       "286     0.263029  0.512479                         0                      1   \n",
       "1988   -0.337367  0.191110                         0                      1   \n",
       "2399   -0.366418 -1.174708                         0                      1   \n",
       "1823   -0.327683  0.432137                         0                      0   \n",
       "362     0.175875 -0.290943                         0                      1   \n",
       "\n",
       "      gender_M  country_India  country_United States  \n",
       "286          1              0                      1  \n",
       "1988         1              0                      1  \n",
       "2399         1              0                      0  \n",
       "1823         1              0                      1  \n",
       "362          1              0                      0  "
      ]
     },
     "execution_count": 127,
     "metadata": {},
     "output_type": "execute_result"
    }
   ],
   "source": [
    "train_features = df_train.drop(['y'],axis=1)\n",
    "test_features = df_test.drop(['y'],axis=1)\n",
    "train_target = df_train[['y']]\n",
    "test_target = df_test[['y']]\n",
    "scaler2=StandardScaler()\n",
    "scaled_exp_vars2 = scaler2.fit_transform(train_features[num_col])\n",
    "scaled_exp_vars3 = scaler2.fit_transform(test_features[num_col])\n",
    "train_features[num_col] = scaled_exp_vars2\n",
    "test_features[num_col] = scaled_exp_vars3\n",
    "train_features = pd.get_dummies(train_features, drop_first=True, dtype=int)\n",
    "test_features = pd.get_dummies(test_features, drop_first=True, dtype=int)\n",
    "train_features.head()"
   ]
  },
  {
   "cell_type": "markdown",
   "metadata": {},
   "source": [
    "#### Fitting the Model and Slopes/Intercept"
   ]
  },
  {
   "cell_type": "code",
   "execution_count": 128,
   "metadata": {},
   "outputs": [
    {
     "data": {
      "text/html": [
       "<style>#sk-container-id-1 {\n",
       "  /* Definition of color scheme common for light and dark mode */\n",
       "  --sklearn-color-text: black;\n",
       "  --sklearn-color-line: gray;\n",
       "  /* Definition of color scheme for unfitted estimators */\n",
       "  --sklearn-color-unfitted-level-0: #fff5e6;\n",
       "  --sklearn-color-unfitted-level-1: #f6e4d2;\n",
       "  --sklearn-color-unfitted-level-2: #ffe0b3;\n",
       "  --sklearn-color-unfitted-level-3: chocolate;\n",
       "  /* Definition of color scheme for fitted estimators */\n",
       "  --sklearn-color-fitted-level-0: #f0f8ff;\n",
       "  --sklearn-color-fitted-level-1: #d4ebff;\n",
       "  --sklearn-color-fitted-level-2: #b3dbfd;\n",
       "  --sklearn-color-fitted-level-3: cornflowerblue;\n",
       "\n",
       "  /* Specific color for light theme */\n",
       "  --sklearn-color-text-on-default-background: var(--sg-text-color, var(--theme-code-foreground, var(--jp-content-font-color1, black)));\n",
       "  --sklearn-color-background: var(--sg-background-color, var(--theme-background, var(--jp-layout-color0, white)));\n",
       "  --sklearn-color-border-box: var(--sg-text-color, var(--theme-code-foreground, var(--jp-content-font-color1, black)));\n",
       "  --sklearn-color-icon: #696969;\n",
       "\n",
       "  @media (prefers-color-scheme: dark) {\n",
       "    /* Redefinition of color scheme for dark theme */\n",
       "    --sklearn-color-text-on-default-background: var(--sg-text-color, var(--theme-code-foreground, var(--jp-content-font-color1, white)));\n",
       "    --sklearn-color-background: var(--sg-background-color, var(--theme-background, var(--jp-layout-color0, #111)));\n",
       "    --sklearn-color-border-box: var(--sg-text-color, var(--theme-code-foreground, var(--jp-content-font-color1, white)));\n",
       "    --sklearn-color-icon: #878787;\n",
       "  }\n",
       "}\n",
       "\n",
       "#sk-container-id-1 {\n",
       "  color: var(--sklearn-color-text);\n",
       "}\n",
       "\n",
       "#sk-container-id-1 pre {\n",
       "  padding: 0;\n",
       "}\n",
       "\n",
       "#sk-container-id-1 input.sk-hidden--visually {\n",
       "  border: 0;\n",
       "  clip: rect(1px 1px 1px 1px);\n",
       "  clip: rect(1px, 1px, 1px, 1px);\n",
       "  height: 1px;\n",
       "  margin: -1px;\n",
       "  overflow: hidden;\n",
       "  padding: 0;\n",
       "  position: absolute;\n",
       "  width: 1px;\n",
       "}\n",
       "\n",
       "#sk-container-id-1 div.sk-dashed-wrapped {\n",
       "  border: 1px dashed var(--sklearn-color-line);\n",
       "  margin: 0 0.4em 0.5em 0.4em;\n",
       "  box-sizing: border-box;\n",
       "  padding-bottom: 0.4em;\n",
       "  background-color: var(--sklearn-color-background);\n",
       "}\n",
       "\n",
       "#sk-container-id-1 div.sk-container {\n",
       "  /* jupyter's `normalize.less` sets `[hidden] { display: none; }`\n",
       "     but bootstrap.min.css set `[hidden] { display: none !important; }`\n",
       "     so we also need the `!important` here to be able to override the\n",
       "     default hidden behavior on the sphinx rendered scikit-learn.org.\n",
       "     See: https://github.com/scikit-learn/scikit-learn/issues/21755 */\n",
       "  display: inline-block !important;\n",
       "  position: relative;\n",
       "}\n",
       "\n",
       "#sk-container-id-1 div.sk-text-repr-fallback {\n",
       "  display: none;\n",
       "}\n",
       "\n",
       "div.sk-parallel-item,\n",
       "div.sk-serial,\n",
       "div.sk-item {\n",
       "  /* draw centered vertical line to link estimators */\n",
       "  background-image: linear-gradient(var(--sklearn-color-text-on-default-background), var(--sklearn-color-text-on-default-background));\n",
       "  background-size: 2px 100%;\n",
       "  background-repeat: no-repeat;\n",
       "  background-position: center center;\n",
       "}\n",
       "\n",
       "/* Parallel-specific style estimator block */\n",
       "\n",
       "#sk-container-id-1 div.sk-parallel-item::after {\n",
       "  content: \"\";\n",
       "  width: 100%;\n",
       "  border-bottom: 2px solid var(--sklearn-color-text-on-default-background);\n",
       "  flex-grow: 1;\n",
       "}\n",
       "\n",
       "#sk-container-id-1 div.sk-parallel {\n",
       "  display: flex;\n",
       "  align-items: stretch;\n",
       "  justify-content: center;\n",
       "  background-color: var(--sklearn-color-background);\n",
       "  position: relative;\n",
       "}\n",
       "\n",
       "#sk-container-id-1 div.sk-parallel-item {\n",
       "  display: flex;\n",
       "  flex-direction: column;\n",
       "}\n",
       "\n",
       "#sk-container-id-1 div.sk-parallel-item:first-child::after {\n",
       "  align-self: flex-end;\n",
       "  width: 50%;\n",
       "}\n",
       "\n",
       "#sk-container-id-1 div.sk-parallel-item:last-child::after {\n",
       "  align-self: flex-start;\n",
       "  width: 50%;\n",
       "}\n",
       "\n",
       "#sk-container-id-1 div.sk-parallel-item:only-child::after {\n",
       "  width: 0;\n",
       "}\n",
       "\n",
       "/* Serial-specific style estimator block */\n",
       "\n",
       "#sk-container-id-1 div.sk-serial {\n",
       "  display: flex;\n",
       "  flex-direction: column;\n",
       "  align-items: center;\n",
       "  background-color: var(--sklearn-color-background);\n",
       "  padding-right: 1em;\n",
       "  padding-left: 1em;\n",
       "}\n",
       "\n",
       "\n",
       "/* Toggleable style: style used for estimator/Pipeline/ColumnTransformer box that is\n",
       "clickable and can be expanded/collapsed.\n",
       "- Pipeline and ColumnTransformer use this feature and define the default style\n",
       "- Estimators will overwrite some part of the style using the `sk-estimator` class\n",
       "*/\n",
       "\n",
       "/* Pipeline and ColumnTransformer style (default) */\n",
       "\n",
       "#sk-container-id-1 div.sk-toggleable {\n",
       "  /* Default theme specific background. It is overwritten whether we have a\n",
       "  specific estimator or a Pipeline/ColumnTransformer */\n",
       "  background-color: var(--sklearn-color-background);\n",
       "}\n",
       "\n",
       "/* Toggleable label */\n",
       "#sk-container-id-1 label.sk-toggleable__label {\n",
       "  cursor: pointer;\n",
       "  display: block;\n",
       "  width: 100%;\n",
       "  margin-bottom: 0;\n",
       "  padding: 0.5em;\n",
       "  box-sizing: border-box;\n",
       "  text-align: center;\n",
       "}\n",
       "\n",
       "#sk-container-id-1 label.sk-toggleable__label-arrow:before {\n",
       "  /* Arrow on the left of the label */\n",
       "  content: \"▸\";\n",
       "  float: left;\n",
       "  margin-right: 0.25em;\n",
       "  color: var(--sklearn-color-icon);\n",
       "}\n",
       "\n",
       "#sk-container-id-1 label.sk-toggleable__label-arrow:hover:before {\n",
       "  color: var(--sklearn-color-text);\n",
       "}\n",
       "\n",
       "/* Toggleable content - dropdown */\n",
       "\n",
       "#sk-container-id-1 div.sk-toggleable__content {\n",
       "  max-height: 0;\n",
       "  max-width: 0;\n",
       "  overflow: hidden;\n",
       "  text-align: left;\n",
       "  /* unfitted */\n",
       "  background-color: var(--sklearn-color-unfitted-level-0);\n",
       "}\n",
       "\n",
       "#sk-container-id-1 div.sk-toggleable__content.fitted {\n",
       "  /* fitted */\n",
       "  background-color: var(--sklearn-color-fitted-level-0);\n",
       "}\n",
       "\n",
       "#sk-container-id-1 div.sk-toggleable__content pre {\n",
       "  margin: 0.2em;\n",
       "  border-radius: 0.25em;\n",
       "  color: var(--sklearn-color-text);\n",
       "  /* unfitted */\n",
       "  background-color: var(--sklearn-color-unfitted-level-0);\n",
       "}\n",
       "\n",
       "#sk-container-id-1 div.sk-toggleable__content.fitted pre {\n",
       "  /* unfitted */\n",
       "  background-color: var(--sklearn-color-fitted-level-0);\n",
       "}\n",
       "\n",
       "#sk-container-id-1 input.sk-toggleable__control:checked~div.sk-toggleable__content {\n",
       "  /* Expand drop-down */\n",
       "  max-height: 200px;\n",
       "  max-width: 100%;\n",
       "  overflow: auto;\n",
       "}\n",
       "\n",
       "#sk-container-id-1 input.sk-toggleable__control:checked~label.sk-toggleable__label-arrow:before {\n",
       "  content: \"▾\";\n",
       "}\n",
       "\n",
       "/* Pipeline/ColumnTransformer-specific style */\n",
       "\n",
       "#sk-container-id-1 div.sk-label input.sk-toggleable__control:checked~label.sk-toggleable__label {\n",
       "  color: var(--sklearn-color-text);\n",
       "  background-color: var(--sklearn-color-unfitted-level-2);\n",
       "}\n",
       "\n",
       "#sk-container-id-1 div.sk-label.fitted input.sk-toggleable__control:checked~label.sk-toggleable__label {\n",
       "  background-color: var(--sklearn-color-fitted-level-2);\n",
       "}\n",
       "\n",
       "/* Estimator-specific style */\n",
       "\n",
       "/* Colorize estimator box */\n",
       "#sk-container-id-1 div.sk-estimator input.sk-toggleable__control:checked~label.sk-toggleable__label {\n",
       "  /* unfitted */\n",
       "  background-color: var(--sklearn-color-unfitted-level-2);\n",
       "}\n",
       "\n",
       "#sk-container-id-1 div.sk-estimator.fitted input.sk-toggleable__control:checked~label.sk-toggleable__label {\n",
       "  /* fitted */\n",
       "  background-color: var(--sklearn-color-fitted-level-2);\n",
       "}\n",
       "\n",
       "#sk-container-id-1 div.sk-label label.sk-toggleable__label,\n",
       "#sk-container-id-1 div.sk-label label {\n",
       "  /* The background is the default theme color */\n",
       "  color: var(--sklearn-color-text-on-default-background);\n",
       "}\n",
       "\n",
       "/* On hover, darken the color of the background */\n",
       "#sk-container-id-1 div.sk-label:hover label.sk-toggleable__label {\n",
       "  color: var(--sklearn-color-text);\n",
       "  background-color: var(--sklearn-color-unfitted-level-2);\n",
       "}\n",
       "\n",
       "/* Label box, darken color on hover, fitted */\n",
       "#sk-container-id-1 div.sk-label.fitted:hover label.sk-toggleable__label.fitted {\n",
       "  color: var(--sklearn-color-text);\n",
       "  background-color: var(--sklearn-color-fitted-level-2);\n",
       "}\n",
       "\n",
       "/* Estimator label */\n",
       "\n",
       "#sk-container-id-1 div.sk-label label {\n",
       "  font-family: monospace;\n",
       "  font-weight: bold;\n",
       "  display: inline-block;\n",
       "  line-height: 1.2em;\n",
       "}\n",
       "\n",
       "#sk-container-id-1 div.sk-label-container {\n",
       "  text-align: center;\n",
       "}\n",
       "\n",
       "/* Estimator-specific */\n",
       "#sk-container-id-1 div.sk-estimator {\n",
       "  font-family: monospace;\n",
       "  border: 1px dotted var(--sklearn-color-border-box);\n",
       "  border-radius: 0.25em;\n",
       "  box-sizing: border-box;\n",
       "  margin-bottom: 0.5em;\n",
       "  /* unfitted */\n",
       "  background-color: var(--sklearn-color-unfitted-level-0);\n",
       "}\n",
       "\n",
       "#sk-container-id-1 div.sk-estimator.fitted {\n",
       "  /* fitted */\n",
       "  background-color: var(--sklearn-color-fitted-level-0);\n",
       "}\n",
       "\n",
       "/* on hover */\n",
       "#sk-container-id-1 div.sk-estimator:hover {\n",
       "  /* unfitted */\n",
       "  background-color: var(--sklearn-color-unfitted-level-2);\n",
       "}\n",
       "\n",
       "#sk-container-id-1 div.sk-estimator.fitted:hover {\n",
       "  /* fitted */\n",
       "  background-color: var(--sklearn-color-fitted-level-2);\n",
       "}\n",
       "\n",
       "/* Specification for estimator info (e.g. \"i\" and \"?\") */\n",
       "\n",
       "/* Common style for \"i\" and \"?\" */\n",
       "\n",
       ".sk-estimator-doc-link,\n",
       "a:link.sk-estimator-doc-link,\n",
       "a:visited.sk-estimator-doc-link {\n",
       "  float: right;\n",
       "  font-size: smaller;\n",
       "  line-height: 1em;\n",
       "  font-family: monospace;\n",
       "  background-color: var(--sklearn-color-background);\n",
       "  border-radius: 1em;\n",
       "  height: 1em;\n",
       "  width: 1em;\n",
       "  text-decoration: none !important;\n",
       "  margin-left: 1ex;\n",
       "  /* unfitted */\n",
       "  border: var(--sklearn-color-unfitted-level-1) 1pt solid;\n",
       "  color: var(--sklearn-color-unfitted-level-1);\n",
       "}\n",
       "\n",
       ".sk-estimator-doc-link.fitted,\n",
       "a:link.sk-estimator-doc-link.fitted,\n",
       "a:visited.sk-estimator-doc-link.fitted {\n",
       "  /* fitted */\n",
       "  border: var(--sklearn-color-fitted-level-1) 1pt solid;\n",
       "  color: var(--sklearn-color-fitted-level-1);\n",
       "}\n",
       "\n",
       "/* On hover */\n",
       "div.sk-estimator:hover .sk-estimator-doc-link:hover,\n",
       ".sk-estimator-doc-link:hover,\n",
       "div.sk-label-container:hover .sk-estimator-doc-link:hover,\n",
       ".sk-estimator-doc-link:hover {\n",
       "  /* unfitted */\n",
       "  background-color: var(--sklearn-color-unfitted-level-3);\n",
       "  color: var(--sklearn-color-background);\n",
       "  text-decoration: none;\n",
       "}\n",
       "\n",
       "div.sk-estimator.fitted:hover .sk-estimator-doc-link.fitted:hover,\n",
       ".sk-estimator-doc-link.fitted:hover,\n",
       "div.sk-label-container:hover .sk-estimator-doc-link.fitted:hover,\n",
       ".sk-estimator-doc-link.fitted:hover {\n",
       "  /* fitted */\n",
       "  background-color: var(--sklearn-color-fitted-level-3);\n",
       "  color: var(--sklearn-color-background);\n",
       "  text-decoration: none;\n",
       "}\n",
       "\n",
       "/* Span, style for the box shown on hovering the info icon */\n",
       ".sk-estimator-doc-link span {\n",
       "  display: none;\n",
       "  z-index: 9999;\n",
       "  position: relative;\n",
       "  font-weight: normal;\n",
       "  right: .2ex;\n",
       "  padding: .5ex;\n",
       "  margin: .5ex;\n",
       "  width: min-content;\n",
       "  min-width: 20ex;\n",
       "  max-width: 50ex;\n",
       "  color: var(--sklearn-color-text);\n",
       "  box-shadow: 2pt 2pt 4pt #999;\n",
       "  /* unfitted */\n",
       "  background: var(--sklearn-color-unfitted-level-0);\n",
       "  border: .5pt solid var(--sklearn-color-unfitted-level-3);\n",
       "}\n",
       "\n",
       ".sk-estimator-doc-link.fitted span {\n",
       "  /* fitted */\n",
       "  background: var(--sklearn-color-fitted-level-0);\n",
       "  border: var(--sklearn-color-fitted-level-3);\n",
       "}\n",
       "\n",
       ".sk-estimator-doc-link:hover span {\n",
       "  display: block;\n",
       "}\n",
       "\n",
       "/* \"?\"-specific style due to the `<a>` HTML tag */\n",
       "\n",
       "#sk-container-id-1 a.estimator_doc_link {\n",
       "  float: right;\n",
       "  font-size: 1rem;\n",
       "  line-height: 1em;\n",
       "  font-family: monospace;\n",
       "  background-color: var(--sklearn-color-background);\n",
       "  border-radius: 1rem;\n",
       "  height: 1rem;\n",
       "  width: 1rem;\n",
       "  text-decoration: none;\n",
       "  /* unfitted */\n",
       "  color: var(--sklearn-color-unfitted-level-1);\n",
       "  border: var(--sklearn-color-unfitted-level-1) 1pt solid;\n",
       "}\n",
       "\n",
       "#sk-container-id-1 a.estimator_doc_link.fitted {\n",
       "  /* fitted */\n",
       "  border: var(--sklearn-color-fitted-level-1) 1pt solid;\n",
       "  color: var(--sklearn-color-fitted-level-1);\n",
       "}\n",
       "\n",
       "/* On hover */\n",
       "#sk-container-id-1 a.estimator_doc_link:hover {\n",
       "  /* unfitted */\n",
       "  background-color: var(--sklearn-color-unfitted-level-3);\n",
       "  color: var(--sklearn-color-background);\n",
       "  text-decoration: none;\n",
       "}\n",
       "\n",
       "#sk-container-id-1 a.estimator_doc_link.fitted:hover {\n",
       "  /* fitted */\n",
       "  background-color: var(--sklearn-color-fitted-level-3);\n",
       "}\n",
       "</style><div id=\"sk-container-id-1\" class=\"sk-top-container\"><div class=\"sk-text-repr-fallback\"><pre>LogisticRegression(max_iter=1000, solver=&#x27;newton-cg&#x27;)</pre><b>In a Jupyter environment, please rerun this cell to show the HTML representation or trust the notebook. <br />On GitHub, the HTML representation is unable to render, please try loading this page with nbviewer.org.</b></div><div class=\"sk-container\" hidden><div class=\"sk-item\"><div class=\"sk-estimator fitted sk-toggleable\"><input class=\"sk-toggleable__control sk-hidden--visually\" id=\"sk-estimator-id-1\" type=\"checkbox\" checked><label for=\"sk-estimator-id-1\" class=\"sk-toggleable__label fitted sk-toggleable__label-arrow fitted\">&nbsp;&nbsp;LogisticRegression<a class=\"sk-estimator-doc-link fitted\" rel=\"noreferrer\" target=\"_blank\" href=\"https://scikit-learn.org/1.4/modules/generated/sklearn.linear_model.LogisticRegression.html\">?<span>Documentation for LogisticRegression</span></a><span class=\"sk-estimator-doc-link fitted\">i<span>Fitted</span></span></label><div class=\"sk-toggleable__content fitted\"><pre>LogisticRegression(max_iter=1000, solver=&#x27;newton-cg&#x27;)</pre></div> </div></div></div></div>"
      ],
      "text/plain": [
       "LogisticRegression(max_iter=1000, solver='newton-cg')"
      ]
     },
     "execution_count": 128,
     "metadata": {},
     "output_type": "execute_result"
    }
   ],
   "source": [
    "model = LogisticRegression(solver = 'newton-cg', max_iter = 1000)\n",
    "model.fit(train_features,train_target)"
   ]
  },
  {
   "cell_type": "code",
   "execution_count": 129,
   "metadata": {},
   "outputs": [
    {
     "data": {
      "text/plain": [
       "array([1.28434236])"
      ]
     },
     "execution_count": 129,
     "metadata": {},
     "output_type": "execute_result"
    }
   ],
   "source": [
    "model.intercept_"
   ]
  },
  {
   "cell_type": "code",
   "execution_count": 130,
   "metadata": {},
   "outputs": [
    {
     "data": {
      "text/html": [
       "<div>\n",
       "<style scoped>\n",
       "    .dataframe tbody tr th:only-of-type {\n",
       "        vertical-align: middle;\n",
       "    }\n",
       "\n",
       "    .dataframe tbody tr th {\n",
       "        vertical-align: top;\n",
       "    }\n",
       "\n",
       "    .dataframe thead th {\n",
       "        text-align: right;\n",
       "    }\n",
       "</style>\n",
       "<table border=\"1\" class=\"dataframe\">\n",
       "  <thead>\n",
       "    <tr style=\"text-align: right;\">\n",
       "      <th></th>\n",
       "      <th>full_model</th>\n",
       "    </tr>\n",
       "  </thead>\n",
       "  <tbody>\n",
       "    <tr>\n",
       "      <th>country_India</th>\n",
       "      <td>-2.273495</td>\n",
       "    </tr>\n",
       "    <tr>\n",
       "      <th>country_United States</th>\n",
       "      <td>-1.524430</td>\n",
       "    </tr>\n",
       "    <tr>\n",
       "      <th>age</th>\n",
       "      <td>-0.391635</td>\n",
       "    </tr>\n",
       "    <tr>\n",
       "      <th>industries_Manufacturing</th>\n",
       "      <td>-0.247727</td>\n",
       "    </tr>\n",
       "    <tr>\n",
       "      <th>finalWorth</th>\n",
       "      <td>0.038849</td>\n",
       "    </tr>\n",
       "    <tr>\n",
       "      <th>industries_Technology</th>\n",
       "      <td>1.156069</td>\n",
       "    </tr>\n",
       "    <tr>\n",
       "      <th>gender_M</th>\n",
       "      <td>2.233071</td>\n",
       "    </tr>\n",
       "  </tbody>\n",
       "</table>\n",
       "</div>"
      ],
      "text/plain": [
       "                          full_model\n",
       "country_India              -2.273495\n",
       "country_United States      -1.524430\n",
       "age                        -0.391635\n",
       "industries_Manufacturing   -0.247727\n",
       "finalWorth                  0.038849\n",
       "industries_Technology       1.156069\n",
       "gender_M                    2.233071"
      ]
     },
     "execution_count": 130,
     "metadata": {},
     "output_type": "execute_result"
    }
   ],
   "source": [
    "df_slopes = pd.DataFrame(model.coef_.T, columns = ['full_model'], index=train_features.columns)\n",
    "df_slopes.sort_values(by=['full_model'])"
   ]
  },
  {
   "cell_type": "markdown",
   "metadata": {},
   "source": [
    "#### Equations (^ is part of the equation)"
   ]
  },
  {
   "cell_type": "markdown",
   "metadata": {},
   "source": [
    "        ^"
   ]
  },
  {
   "cell_type": "markdown",
   "metadata": {},
   "source": [
    "$$ P(\\text{SelfMade}) = \\frac{1}{1 + e^{-\\left(1.28 - 2.27 \\cdot \\text{Country\\_India} - 1.52 \\cdot \\text{Country\\_United States} - 0.39 \\cdot \\text{Age} - 0.25\\cdot \\text{Industries\\_Manufacturing} + 0.04 \\cdot \\text{FinalWorth} + 1.16 \\cdot \\text{Industries\\_Technology} + 2.23 \\cdot \\text{Gender\\_M}\\right)}} $$\n"
   ]
  },
  {
   "cell_type": "markdown",
   "metadata": {},
   "source": [
    "      ^"
   ]
  },
  {
   "cell_type": "markdown",
   "metadata": {},
   "source": [
    "$$ \\text{log(odds)} = \n",
    "\\ln \\left( \\frac{P(\\text{SelfMade})}{1 - P(\\text{SelfMade})} \\right) = 1.28434236 - 2.273495\n",
    " \\cdot \\text{Country\\_India} - 1.524430 \\cdot \\text{Country\\_United States} - 0.391635 \\cdot \\text{Age} - 0.247727 \\cdot \\text{Industries\\_Manufacturing} + 0.038849 \\cdot \\text{FinalWorth} + 1.156069 \\cdot \\text{Industries\\_Technology} + 2.233071 \\cdot \\text{Gender\\_M} $$"
   ]
  },
  {
   "cell_type": "markdown",
   "metadata": {},
   "source": [
    "#### Slope interprability"
   ]
  },
  {
   "cell_type": "code",
   "execution_count": 131,
   "metadata": {},
   "outputs": [
    {
     "data": {
      "text/html": [
       "<div>\n",
       "<style scoped>\n",
       "    .dataframe tbody tr th:only-of-type {\n",
       "        vertical-align: middle;\n",
       "    }\n",
       "\n",
       "    .dataframe tbody tr th {\n",
       "        vertical-align: top;\n",
       "    }\n",
       "\n",
       "    .dataframe thead th {\n",
       "        text-align: right;\n",
       "    }\n",
       "</style>\n",
       "<table border=\"1\" class=\"dataframe\">\n",
       "  <thead>\n",
       "    <tr style=\"text-align: right;\">\n",
       "      <th></th>\n",
       "      <th>finalWorth</th>\n",
       "      <th>age</th>\n",
       "    </tr>\n",
       "  </thead>\n",
       "  <tbody>\n",
       "    <tr>\n",
       "      <th>finalWorth</th>\n",
       "      <td>1.000000</td>\n",
       "      <td>0.027599</td>\n",
       "    </tr>\n",
       "    <tr>\n",
       "      <th>age</th>\n",
       "      <td>0.027599</td>\n",
       "      <td>1.000000</td>\n",
       "    </tr>\n",
       "  </tbody>\n",
       "</table>\n",
       "</div>"
      ],
      "text/plain": [
       "            finalWorth       age\n",
       "finalWorth    1.000000  0.027599\n",
       "age           0.027599  1.000000"
      ]
     },
     "execution_count": 131,
     "metadata": {},
     "output_type": "execute_result"
    }
   ],
   "source": [
    "train_features[['finalWorth','age']].corr()"
   ]
  },
  {
   "cell_type": "code",
   "execution_count": 132,
   "metadata": {},
   "outputs": [
    {
     "data": {
      "text/plain": [
       "finalWorth    1.000988\n",
       "age           1.000988\n",
       "dtype: float64"
      ]
     },
     "execution_count": 132,
     "metadata": {},
     "output_type": "execute_result"
    }
   ],
   "source": [
    "train_features[['finalWorth','age']].std()"
   ]
  },
  {
   "cell_type": "markdown",
   "metadata": {},
   "source": [
    "#### ROC Curve and TPR/FPR"
   ]
  },
  {
   "cell_type": "code",
   "execution_count": 133,
   "metadata": {},
   "outputs": [
    {
     "data": {
      "text/plain": [
       "array([0.95273247, 0.89296152, 0.84788914, 0.97652057, 0.87374643,\n",
       "       0.91696792, 0.98354352, 0.99017872, 0.94880824, 0.95147236,\n",
       "       0.8714134 , 0.73035342, 0.96994787, 0.9706563 , 0.97132187,\n",
       "       0.84994086, 0.98868425, 0.99247302, 0.96622004, 0.96981839,\n",
       "       0.94155217, 0.91015761, 0.89277601, 0.97146396, 0.80425979,\n",
       "       0.70116804, 0.97080587, 0.96872531, 0.89163021, 0.78968539,\n",
       "       0.9517403 , 0.94671064, 0.80333118, 0.37517533, 0.93024079,\n",
       "       0.97064841, 0.92734074, 0.77486243, 0.64362743, 0.95640964,\n",
       "       0.81563139, 0.99414164, 0.88071146, 0.7509388 , 0.97477858,\n",
       "       0.81758162, 0.625906  , 0.97713969, 0.67413252, 0.97580672,\n",
       "       0.9119526 , 0.93282696, 0.89960976, 0.96790545, 0.95023881,\n",
       "       0.78979977, 0.82182914, 0.9147316 , 0.97792574, 0.97380767,\n",
       "       0.89797823, 0.76203692, 0.93014609, 0.96508811, 0.85695613,\n",
       "       0.96895731, 0.83059847, 0.99374788, 0.908754  , 0.96039074,\n",
       "       0.9308074 , 0.88664752, 0.71418766, 0.96123859, 0.87147548,\n",
       "       0.99342714, 0.98219938, 0.88985773, 0.99154282, 0.80369662,\n",
       "       0.76584519, 0.99504291, 0.96990379, 0.96719845, 0.80366969,\n",
       "       0.69740929, 0.73435784, 0.95296364, 0.93591154, 0.82213608,\n",
       "       0.97450468, 0.95787777, 0.71818765, 0.96443555, 0.68141208,\n",
       "       0.73541427, 0.655951  , 0.99303711, 0.87022907, 0.84814844,\n",
       "       0.95774953, 0.9308074 , 0.90227359, 0.70629393, 0.76400479,\n",
       "       0.94855931, 0.88592152, 0.97591116, 0.9689323 , 0.78014518,\n",
       "       0.97641194, 0.23140928, 0.97074299, 0.9738623 , 0.8148913 ,\n",
       "       0.90527115, 0.83823334, 0.83009108, 0.70148311, 0.99459666,\n",
       "       0.966211  , 0.86758644, 0.96525998, 0.79929578, 0.93445486,\n",
       "       0.97195264, 0.46384062])"
      ]
     },
     "execution_count": 133,
     "metadata": {},
     "output_type": "execute_result"
    }
   ],
   "source": [
    "test = model.predict_proba(test_features)[:,1]\n",
    "test"
   ]
  },
  {
   "cell_type": "code",
   "execution_count": 134,
   "metadata": {},
   "outputs": [
    {
     "data": {
      "text/html": [
       "<div>\n",
       "<style scoped>\n",
       "    .dataframe tbody tr th:only-of-type {\n",
       "        vertical-align: middle;\n",
       "    }\n",
       "\n",
       "    .dataframe tbody tr th {\n",
       "        vertical-align: top;\n",
       "    }\n",
       "\n",
       "    .dataframe thead th {\n",
       "        text-align: right;\n",
       "    }\n",
       "</style>\n",
       "<table border=\"1\" class=\"dataframe\">\n",
       "  <thead>\n",
       "    <tr style=\"text-align: right;\">\n",
       "      <th></th>\n",
       "      <th>fpr</th>\n",
       "      <th>tpr</th>\n",
       "    </tr>\n",
       "  </thead>\n",
       "  <tbody>\n",
       "    <tr>\n",
       "      <th>0</th>\n",
       "      <td>0.000000</td>\n",
       "      <td>0.000000</td>\n",
       "    </tr>\n",
       "    <tr>\n",
       "      <th>1</th>\n",
       "      <td>0.000000</td>\n",
       "      <td>0.008850</td>\n",
       "    </tr>\n",
       "    <tr>\n",
       "      <th>2</th>\n",
       "      <td>0.000000</td>\n",
       "      <td>0.522124</td>\n",
       "    </tr>\n",
       "    <tr>\n",
       "      <th>3</th>\n",
       "      <td>0.000000</td>\n",
       "      <td>0.539823</td>\n",
       "    </tr>\n",
       "    <tr>\n",
       "      <th>4</th>\n",
       "      <td>0.000000</td>\n",
       "      <td>0.646018</td>\n",
       "    </tr>\n",
       "    <tr>\n",
       "      <th>5</th>\n",
       "      <td>0.071429</td>\n",
       "      <td>0.646018</td>\n",
       "    </tr>\n",
       "    <tr>\n",
       "      <th>6</th>\n",
       "      <td>0.071429</td>\n",
       "      <td>0.663717</td>\n",
       "    </tr>\n",
       "    <tr>\n",
       "      <th>7</th>\n",
       "      <td>0.142857</td>\n",
       "      <td>0.663717</td>\n",
       "    </tr>\n",
       "    <tr>\n",
       "      <th>8</th>\n",
       "      <td>0.142857</td>\n",
       "      <td>0.734513</td>\n",
       "    </tr>\n",
       "    <tr>\n",
       "      <th>9</th>\n",
       "      <td>0.214286</td>\n",
       "      <td>0.734513</td>\n",
       "    </tr>\n",
       "    <tr>\n",
       "      <th>10</th>\n",
       "      <td>0.214286</td>\n",
       "      <td>0.814159</td>\n",
       "    </tr>\n",
       "    <tr>\n",
       "      <th>11</th>\n",
       "      <td>0.285714</td>\n",
       "      <td>0.814159</td>\n",
       "    </tr>\n",
       "    <tr>\n",
       "      <th>12</th>\n",
       "      <td>0.285714</td>\n",
       "      <td>0.849558</td>\n",
       "    </tr>\n",
       "    <tr>\n",
       "      <th>13</th>\n",
       "      <td>0.357143</td>\n",
       "      <td>0.849558</td>\n",
       "    </tr>\n",
       "    <tr>\n",
       "      <th>14</th>\n",
       "      <td>0.357143</td>\n",
       "      <td>0.893805</td>\n",
       "    </tr>\n",
       "    <tr>\n",
       "      <th>15</th>\n",
       "      <td>0.428571</td>\n",
       "      <td>0.893805</td>\n",
       "    </tr>\n",
       "    <tr>\n",
       "      <th>16</th>\n",
       "      <td>0.428571</td>\n",
       "      <td>0.964602</td>\n",
       "    </tr>\n",
       "    <tr>\n",
       "      <th>17</th>\n",
       "      <td>0.500000</td>\n",
       "      <td>0.964602</td>\n",
       "    </tr>\n",
       "    <tr>\n",
       "      <th>18</th>\n",
       "      <td>0.500000</td>\n",
       "      <td>0.973451</td>\n",
       "    </tr>\n",
       "    <tr>\n",
       "      <th>19</th>\n",
       "      <td>0.642857</td>\n",
       "      <td>0.973451</td>\n",
       "    </tr>\n",
       "    <tr>\n",
       "      <th>20</th>\n",
       "      <td>0.642857</td>\n",
       "      <td>1.000000</td>\n",
       "    </tr>\n",
       "    <tr>\n",
       "      <th>21</th>\n",
       "      <td>1.000000</td>\n",
       "      <td>1.000000</td>\n",
       "    </tr>\n",
       "  </tbody>\n",
       "</table>\n",
       "</div>"
      ],
      "text/plain": [
       "         fpr       tpr\n",
       "0   0.000000  0.000000\n",
       "1   0.000000  0.008850\n",
       "2   0.000000  0.522124\n",
       "3   0.000000  0.539823\n",
       "4   0.000000  0.646018\n",
       "5   0.071429  0.646018\n",
       "6   0.071429  0.663717\n",
       "7   0.142857  0.663717\n",
       "8   0.142857  0.734513\n",
       "9   0.214286  0.734513\n",
       "10  0.214286  0.814159\n",
       "11  0.285714  0.814159\n",
       "12  0.285714  0.849558\n",
       "13  0.357143  0.849558\n",
       "14  0.357143  0.893805\n",
       "15  0.428571  0.893805\n",
       "16  0.428571  0.964602\n",
       "17  0.500000  0.964602\n",
       "18  0.500000  0.973451\n",
       "19  0.642857  0.973451\n",
       "20  0.642857  1.000000\n",
       "21  1.000000  1.000000"
      ]
     },
     "execution_count": 134,
     "metadata": {},
     "output_type": "execute_result"
    }
   ],
   "source": [
    "fprs, tprs, thresholds = roc_curve(y_true = test_target, y_score=test)\n",
    "pd.DataFrame({'fpr' : fprs, 'tpr' : tprs})"
   ]
  },
  {
   "cell_type": "code",
   "execution_count": 135,
   "metadata": {},
   "outputs": [
    {
     "data": {
      "text/plain": [
       "0.8938053097345133"
      ]
     },
     "execution_count": 135,
     "metadata": {},
     "output_type": "execute_result"
    }
   ],
   "source": [
    "auc = roc_auc_score(y_true = test_target, y_score=test)\n",
    "auc"
   ]
  },
  {
   "cell_type": "code",
   "execution_count": 136,
   "metadata": {},
   "outputs": [],
   "source": [
    "def plot_roc(fprs, tprs, auc, lw=2):\n",
    "    plt.plot(fprs, tprs, color='darkorange', lw=lw, label = 'ROC curve (area = '+str(round(auc,3))+')')\n",
    "    plt.plot([0,1], [0,1], color='navy', lw=lw, linestyle='--')\n",
    "    plt.xlabel('False Positive Rate')\n",
    "    plt.ylabel('True Positive Rate')\n",
    "    plt.title('ROC Curve')\n",
    "    plt.legend(loc='lower right')\n",
    "    plt.show()"
   ]
  },
  {
   "cell_type": "code",
   "execution_count": 137,
   "metadata": {},
   "outputs": [
    {
     "data": {
      "image/png": "[encoded data removed]",
      "text/plain": [
       "<Figure size 640x480 with 1 Axes>"
      ]
     },
     "metadata": {},
     "output_type": "display_data"
    }
   ],
   "source": [
    "plot_roc(fprs, tprs, auc)"
   ]
  },
  {
   "cell_type": "code",
   "execution_count": 140,
   "metadata": {},
   "outputs": [
    {
     "name": "stdout",
     "output_type": "stream",
     "text": [
      "   threshold  fpr  tpr\n",
      "0        0.0  1.0  1.0\n",
      "   threshold  fpr  tpr\n",
      "0       0.01  1.0  1.0\n",
      "   threshold  fpr  tpr\n",
      "0       0.02  1.0  1.0\n",
      "   threshold  fpr  tpr\n",
      "0       0.03  1.0  1.0\n",
      "   threshold  fpr  tpr\n",
      "0       0.04  1.0  1.0\n",
      "   threshold  fpr  tpr\n",
      "0       0.05  1.0  1.0\n",
      "   threshold  fpr  tpr\n",
      "0       0.06  1.0  1.0\n",
      "   threshold  fpr  tpr\n",
      "0       0.07  1.0  1.0\n",
      "   threshold  fpr  tpr\n",
      "0       0.08  1.0  1.0\n",
      "   threshold  fpr  tpr\n",
      "0       0.09  1.0  1.0\n",
      "   threshold  fpr  tpr\n",
      "0        0.1  1.0  1.0\n",
      "   threshold  fpr  tpr\n",
      "0       0.11  1.0  1.0\n",
      "   threshold  fpr  tpr\n",
      "0       0.12  1.0  1.0\n",
      "   threshold  fpr  tpr\n",
      "0       0.13  1.0  1.0\n",
      "   threshold  fpr  tpr\n",
      "0       0.14  1.0  1.0\n",
      "   threshold  fpr  tpr\n",
      "0       0.15  1.0  1.0\n",
      "   threshold  fpr  tpr\n",
      "0       0.16  1.0  1.0\n",
      "   threshold  fpr  tpr\n",
      "0       0.17  1.0  1.0\n",
      "   threshold  fpr  tpr\n",
      "0       0.18  1.0  1.0\n",
      "   threshold  fpr  tpr\n",
      "0       0.19  1.0  1.0\n",
      "   threshold  fpr  tpr\n",
      "0        0.2  1.0  1.0\n",
      "   threshold  fpr  tpr\n",
      "0       0.21  1.0  1.0\n",
      "   threshold  fpr  tpr\n",
      "0       0.22  1.0  1.0\n",
      "   threshold  fpr  tpr\n",
      "0       0.23  1.0  1.0\n",
      "   threshold       fpr  tpr\n",
      "0       0.24  0.928571  1.0\n",
      "   threshold       fpr  tpr\n",
      "0       0.25  0.928571  1.0\n",
      "   threshold       fpr  tpr\n",
      "0       0.26  0.928571  1.0\n",
      "   threshold       fpr  tpr\n",
      "0       0.27  0.928571  1.0\n",
      "   threshold       fpr  tpr\n",
      "0       0.28  0.928571  1.0\n",
      "   threshold       fpr  tpr\n",
      "0       0.29  0.928571  1.0\n",
      "   threshold       fpr  tpr\n",
      "0        0.3  0.928571  1.0\n",
      "   threshold       fpr  tpr\n",
      "0       0.31  0.928571  1.0\n",
      "   threshold       fpr  tpr\n",
      "0       0.32  0.928571  1.0\n",
      "   threshold       fpr  tpr\n",
      "0       0.33  0.928571  1.0\n",
      "   threshold       fpr  tpr\n",
      "0       0.34  0.928571  1.0\n",
      "   threshold       fpr  tpr\n",
      "0       0.35  0.928571  1.0\n",
      "   threshold       fpr  tpr\n",
      "0       0.36  0.928571  1.0\n",
      "   threshold       fpr  tpr\n",
      "0       0.37  0.928571  1.0\n",
      "   threshold       fpr  tpr\n",
      "0       0.38  0.857143  1.0\n",
      "   threshold       fpr  tpr\n",
      "0       0.39  0.857143  1.0\n",
      "   threshold       fpr  tpr\n",
      "0        0.4  0.857143  1.0\n",
      "   threshold       fpr  tpr\n",
      "0       0.41  0.857143  1.0\n",
      "   threshold       fpr  tpr\n",
      "0       0.42  0.857143  1.0\n",
      "   threshold       fpr  tpr\n",
      "0       0.43  0.857143  1.0\n",
      "   threshold       fpr  tpr\n",
      "0       0.44  0.857143  1.0\n",
      "   threshold       fpr  tpr\n",
      "0       0.45  0.857143  1.0\n",
      "   threshold       fpr  tpr\n",
      "0       0.46  0.857143  1.0\n",
      "   threshold       fpr  tpr\n",
      "0       0.47  0.785714  1.0\n",
      "   threshold       fpr  tpr\n",
      "0       0.48  0.785714  1.0\n",
      "   threshold       fpr  tpr\n",
      "0       0.49  0.785714  1.0\n",
      "   threshold       fpr  tpr\n",
      "0        0.5  0.785714  1.0\n",
      "   threshold       fpr  tpr\n",
      "0       0.51  0.785714  1.0\n",
      "   threshold       fpr  tpr\n",
      "0       0.52  0.785714  1.0\n",
      "   threshold       fpr  tpr\n",
      "0       0.53  0.785714  1.0\n",
      "   threshold       fpr  tpr\n",
      "0       0.54  0.785714  1.0\n",
      "   threshold       fpr  tpr\n",
      "0       0.55  0.785714  1.0\n",
      "   threshold       fpr  tpr\n",
      "0       0.56  0.785714  1.0\n",
      "   threshold       fpr  tpr\n",
      "0       0.57  0.785714  1.0\n",
      "   threshold       fpr  tpr\n",
      "0       0.58  0.785714  1.0\n",
      "   threshold       fpr  tpr\n",
      "0       0.59  0.785714  1.0\n",
      "   threshold       fpr  tpr\n",
      "0        0.6  0.785714  1.0\n",
      "   threshold       fpr  tpr\n",
      "0       0.61  0.785714  1.0\n",
      "   threshold       fpr  tpr\n",
      "0       0.62  0.785714  1.0\n",
      "   threshold       fpr  tpr\n",
      "0       0.63  0.714286  1.0\n",
      "   threshold       fpr  tpr\n",
      "0       0.64  0.714286  1.0\n",
      "   threshold       fpr  tpr\n",
      "0       0.65  0.642857  1.0\n",
      "   threshold       fpr      tpr\n",
      "0       0.66  0.642857  0.99115\n",
      "   threshold       fpr      tpr\n",
      "0       0.67  0.642857  0.99115\n",
      "   threshold       fpr       tpr\n",
      "0       0.68  0.642857  0.982301\n",
      "   threshold       fpr       tpr\n",
      "0       0.69  0.642857  0.973451\n",
      "   threshold       fpr       tpr\n",
      "0        0.7  0.571429  0.973451\n",
      "   threshold       fpr       tpr\n",
      "0       0.71  0.428571  0.964602\n",
      "   threshold       fpr       tpr\n",
      "0       0.72  0.428571  0.946903\n",
      "   threshold       fpr       tpr\n",
      "0       0.73  0.428571  0.946903\n",
      "   threshold       fpr       tpr\n",
      "0       0.74  0.428571  0.920354\n",
      "   threshold       fpr       tpr\n",
      "0       0.75  0.428571  0.920354\n",
      "   threshold       fpr       tpr\n",
      "0       0.76  0.428571  0.911504\n",
      "   threshold       fpr       tpr\n",
      "0       0.77  0.357143  0.893805\n",
      "   threshold       fpr       tpr\n",
      "0       0.78  0.357143  0.884956\n",
      "   threshold       fpr       tpr\n",
      "0       0.79  0.357143  0.858407\n",
      "   threshold       fpr       tpr\n",
      "0        0.8  0.357143  0.849558\n",
      "   threshold       fpr       tpr\n",
      "0       0.81  0.285714  0.823009\n",
      "   threshold       fpr      tpr\n",
      "0       0.82  0.214286  0.80531\n",
      "   threshold       fpr       tpr\n",
      "0       0.83  0.214286  0.787611\n",
      "   threshold       fpr       tpr\n",
      "0       0.84  0.214286  0.761062\n",
      "   threshold       fpr       tpr\n",
      "0       0.85  0.214286  0.734513\n",
      "   threshold       fpr       tpr\n",
      "0       0.86  0.142857  0.734513\n",
      "   threshold       fpr       tpr\n",
      "0       0.87  0.142857  0.725664\n",
      "   threshold       fpr       tpr\n",
      "0       0.88  0.142857  0.690265\n",
      "   threshold       fpr       tpr\n",
      "0       0.89  0.071429  0.663717\n",
      "   threshold  fpr       tpr\n",
      "0        0.9  0.0  0.628319\n",
      "   threshold  fpr      tpr\n",
      "0       0.91  0.0  0.60177\n",
      "   threshold  fpr       tpr\n",
      "0       0.92  0.0  0.566372\n",
      "   threshold  fpr       tpr\n",
      "0       0.93  0.0  0.557522\n",
      "   threshold  fpr       tpr\n",
      "0       0.94  0.0  0.495575\n",
      "   threshold  fpr       tpr\n",
      "0       0.95  0.0  0.460177\n",
      "   threshold  fpr       tpr\n",
      "0       0.96  0.0  0.389381\n",
      "   threshold  fpr       tpr\n",
      "0       0.97  0.0  0.256637\n",
      "   threshold  fpr       tpr\n",
      "0       0.98  0.0  0.106195\n",
      "   threshold  fpr       tpr\n",
      "0       0.99  0.0  0.079646\n",
      "   threshold  fpr  tpr\n",
      "0        1.0  0.0  0.0\n"
     ]
    }
   ],
   "source": [
    "from sklearn.metrics import confusion_matrix\n",
    "import numpy as np\n",
    "def fpr_tpr_thresh(y, pred_prob, thresh):\n",
    "    yhat = 1*(pred_prob >= thresh)\n",
    "    tn, fp, fn, tp = confusion_matrix(y_true= y, y_pred=yhat).ravel()\n",
    "    tpr = tp / (fn + tp)\n",
    "    fpr = fp / (fp + tn)\n",
    "    return pd.DataFrame({'threshold':[thresh],\n",
    "                         'fpr':[fpr],\n",
    "                         'tpr':[tpr]})\n",
    "for thresh in np.arange(0,1.01,.01):\n",
    "    print(fpr_tpr_thresh(test_target, test, thresh))"
   ]
  },
  {
   "cell_type": "markdown",
   "metadata": {},
   "source": [
    "By using a predictive probability threshold of ^p0= 0.82 to classify the test predictive\n",
    "probabilities, we get a false positve rate of 0.214286 and a true positive rate of 0.80531\n",
    "Of the thresholds that we explored, this will create a test dataset classification that\n",
    "has a high TPR that still does not allow the FPR to go over 25%. Actually, this threshold yields a relatively high TPR of approximately 81%. "
   ]
  },
  {
   "cell_type": "markdown",
   "metadata": {},
   "source": [
    "## 8. Additional Analysis/Insight"
   ]
  },
  {
   "cell_type": "markdown",
   "metadata": {},
   "source": [
    "Below we will perform additional analysis on our full model,which is also our final model, to check the parsimoniousness of the model."
   ]
  },
  {
   "cell_type": "code",
   "execution_count": 139,
   "metadata": {},
   "outputs": [
    {
     "name": "stdout",
     "output_type": "stream",
     "text": [
      "Optimization terminated successfully.\n",
      "         Current function value: 0.244690\n",
      "         Iterations 8\n"
     ]
    },
    {
     "data": {
      "text/html": [
       "<table class=\"simpletable\">\n",
       "<caption>Logit Regression Results</caption>\n",
       "<tr>\n",
       "  <th>Dep. Variable:</th>           <td>y</td>        <th>  No. Observations:  </th>  <td>   507</td>  \n",
       "</tr>\n",
       "<tr>\n",
       "  <th>Model:</th>                 <td>Logit</td>      <th>  Df Residuals:      </th>  <td>   499</td>  \n",
       "</tr>\n",
       "<tr>\n",
       "  <th>Method:</th>                 <td>MLE</td>       <th>  Df Model:          </th>  <td>     7</td>  \n",
       "</tr>\n",
       "<tr>\n",
       "  <th>Date:</th>            <td>Thu, 02 May 2024</td> <th>  Pseudo R-squ.:     </th>  <td>0.3119</td>  \n",
       "</tr>\n",
       "<tr>\n",
       "  <th>Time:</th>                <td>00:26:27</td>     <th>  Log-Likelihood:    </th> <td> -124.06</td> \n",
       "</tr>\n",
       "<tr>\n",
       "  <th>converged:</th>             <td>True</td>       <th>  LL-Null:           </th> <td> -180.30</td> \n",
       "</tr>\n",
       "<tr>\n",
       "  <th>Covariance Type:</th>     <td>nonrobust</td>    <th>  LLR p-value:       </th> <td>2.811e-21</td>\n",
       "</tr>\n",
       "</table>\n",
       "<table class=\"simpletable\">\n",
       "<tr>\n",
       "               <td></td>                  <th>coef</th>     <th>std err</th>      <th>z</th>      <th>P>|z|</th>  <th>[0.025</th>    <th>0.975]</th>  \n",
       "</tr>\n",
       "<tr>\n",
       "  <th>Intercept</th>                   <td>    1.8885</td> <td>    0.840</td> <td>    2.248</td> <td> 0.025</td> <td>    0.242</td> <td>    3.535</td>\n",
       "</tr>\n",
       "<tr>\n",
       "  <th>industries[T.Manufacturing]</th> <td>   -0.4749</td> <td>    0.512</td> <td>   -0.928</td> <td> 0.354</td> <td>   -1.478</td> <td>    0.529</td>\n",
       "</tr>\n",
       "<tr>\n",
       "  <th>industries[T.Technology]</th>    <td>    1.5675</td> <td>    0.511</td> <td>    3.069</td> <td> 0.002</td> <td>    0.567</td> <td>    2.568</td>\n",
       "</tr>\n",
       "<tr>\n",
       "  <th>gender[T.M]</th>                 <td>    2.9379</td> <td>    0.497</td> <td>    5.910</td> <td> 0.000</td> <td>    1.964</td> <td>    3.912</td>\n",
       "</tr>\n",
       "<tr>\n",
       "  <th>country[T.India]</th>            <td>   -3.8167</td> <td>    0.761</td> <td>   -5.015</td> <td> 0.000</td> <td>   -5.308</td> <td>   -2.325</td>\n",
       "</tr>\n",
       "<tr>\n",
       "  <th>country[T.United States]</th>    <td>   -2.8794</td> <td>    0.766</td> <td>   -3.760</td> <td> 0.000</td> <td>   -4.380</td> <td>   -1.379</td>\n",
       "</tr>\n",
       "<tr>\n",
       "  <th>finalWorth</th>                  <td>    0.0239</td> <td>    0.266</td> <td>    0.090</td> <td> 0.928</td> <td>   -0.497</td> <td>    0.545</td>\n",
       "</tr>\n",
       "<tr>\n",
       "  <th>age</th>                         <td>   -0.2930</td> <td>    0.181</td> <td>   -1.621</td> <td> 0.105</td> <td>   -0.647</td> <td>    0.061</td>\n",
       "</tr>\n",
       "</table>"
      ],
      "text/latex": [
       "\\begin{center}\n",
       "\\begin{tabular}{lclc}\n",
       "\\toprule\n",
       "\\textbf{Dep. Variable:}              &        y         & \\textbf{  No. Observations:  } &      507    \\\\\n",
       "\\textbf{Model:}                      &      Logit       & \\textbf{  Df Residuals:      } &      499    \\\\\n",
       "\\textbf{Method:}                     &       MLE        & \\textbf{  Df Model:          } &        7    \\\\\n",
       "\\textbf{Date:}                       & Thu, 02 May 2024 & \\textbf{  Pseudo R-squ.:     } &   0.3119    \\\\\n",
       "\\textbf{Time:}                       &     00:26:27     & \\textbf{  Log-Likelihood:    } &   -124.06   \\\\\n",
       "\\textbf{converged:}                  &       True       & \\textbf{  LL-Null:           } &   -180.30   \\\\\n",
       "\\textbf{Covariance Type:}            &    nonrobust     & \\textbf{  LLR p-value:       } & 2.811e-21   \\\\\n",
       "\\bottomrule\n",
       "\\end{tabular}\n",
       "\\begin{tabular}{lcccccc}\n",
       "                                     & \\textbf{coef} & \\textbf{std err} & \\textbf{z} & \\textbf{P$> |$z$|$} & \\textbf{[0.025} & \\textbf{0.975]}  \\\\\n",
       "\\midrule\n",
       "\\textbf{Intercept}                   &       1.8885  &        0.840     &     2.248  &         0.025        &        0.242    &        3.535     \\\\\n",
       "\\textbf{industries[T.Manufacturing]} &      -0.4749  &        0.512     &    -0.928  &         0.354        &       -1.478    &        0.529     \\\\\n",
       "\\textbf{industries[T.Technology]}    &       1.5675  &        0.511     &     3.069  &         0.002        &        0.567    &        2.568     \\\\\n",
       "\\textbf{gender[T.M]}                 &       2.9379  &        0.497     &     5.910  &         0.000        &        1.964    &        3.912     \\\\\n",
       "\\textbf{country[T.India]}            &      -3.8167  &        0.761     &    -5.015  &         0.000        &       -5.308    &       -2.325     \\\\\n",
       "\\textbf{country[T.United States]}    &      -2.8794  &        0.766     &    -3.760  &         0.000        &       -4.380    &       -1.379     \\\\\n",
       "\\textbf{finalWorth}                  &       0.0239  &        0.266     &     0.090  &         0.928        &       -0.497    &        0.545     \\\\\n",
       "\\textbf{age}                         &      -0.2930  &        0.181     &    -1.621  &         0.105        &       -0.647    &        0.061     \\\\\n",
       "\\bottomrule\n",
       "\\end{tabular}\n",
       "%\\caption{Logit Regression Results}\n",
       "\\end{center}"
      ],
      "text/plain": [
       "<class 'statsmodels.iolib.summary.Summary'>\n",
       "\"\"\"\n",
       "                           Logit Regression Results                           \n",
       "==============================================================================\n",
       "Dep. Variable:                      y   No. Observations:                  507\n",
       "Model:                          Logit   Df Residuals:                      499\n",
       "Method:                           MLE   Df Model:                            7\n",
       "Date:                Thu, 02 May 2024   Pseudo R-squ.:                  0.3119\n",
       "Time:                        00:26:27   Log-Likelihood:                -124.06\n",
       "converged:                       True   LL-Null:                       -180.30\n",
       "Covariance Type:            nonrobust   LLR p-value:                 2.811e-21\n",
       "===============================================================================================\n",
       "                                  coef    std err          z      P>|z|      [0.025      0.975]\n",
       "-----------------------------------------------------------------------------------------------\n",
       "Intercept                       1.8885      0.840      2.248      0.025       0.242       3.535\n",
       "industries[T.Manufacturing]    -0.4749      0.512     -0.928      0.354      -1.478       0.529\n",
       "industries[T.Technology]        1.5675      0.511      3.069      0.002       0.567       2.568\n",
       "gender[T.M]                     2.9379      0.497      5.910      0.000       1.964       3.912\n",
       "country[T.India]               -3.8167      0.761     -5.015      0.000      -5.308      -2.325\n",
       "country[T.United States]       -2.8794      0.766     -3.760      0.000      -4.380      -1.379\n",
       "finalWorth                      0.0239      0.266      0.090      0.928      -0.497       0.545\n",
       "age                            -0.2930      0.181     -1.621      0.105      -0.647       0.061\n",
       "===============================================================================================\n",
       "\"\"\""
      ]
     },
     "execution_count": 139,
     "metadata": {},
     "output_type": "execute_result"
    }
   ],
   "source": [
    "full_mod=smf.logit(formula='y~finalWorth+industries+gender+age+country', data=df_train).fit()\n",
    "full_mod.summary()"
   ]
  },
  {
   "cell_type": "markdown",
   "metadata": {},
   "source": [
    "Above, I can see that the log likelihood value for this full model was -124.06. This relatively low value indicates that the model was not a particularly parsimonious model. This could indicate possible overfitting, though further analysis would need to be conducted to confirm this. Additionally, this advances my secondary research goal because I now know that the integrity of the model itself may not be reliable, potentially pointing to areas where I can improve the model beyond just the inclusion of specific variables. Through this, I considered whether I attained my secondary goal of making the model interpretable and applicable to new datasets."
   ]
  },
  {
   "cell_type": "markdown",
   "metadata": {},
   "source": [
    "## 9. Conclusion"
   ]
  },
  {
   "cell_type": "markdown",
   "metadata": {},
   "source": [
    " I would most likely not recommend someone use my final model to predict whether or not a billionaire is self-made. Even though the AUC was high, the LLF score was considerably low, making the results unreliable.\n",
    "\n",
    "Additionally, I do not know that my final model will yield the highest possible average AUC score out of all the possible models because there are many different ones I did not test, and there are many combinations of explanatory variables that I did not explore in my research process.\n",
    "\n",
    "One step I could have taken to make my research more complete is using an Elastic Net model. This would be useful because it combines LASSO and ridge models and deals with multicollinearity between predictor variables, which could have helped when selecting variables for the model.\n",
    "\n",
    "Going forward, another caveat that I could avoid is my explanatory variable choice. I realize that using final net worth to predict whether or not a billionaire is self-made does not make the most logical sense in explaining my research. I chose the response variable because it was binary, but for future analysis, I know to ensure that the response variable I am predicting should be meaningfully dependent on the explanatory variables I choose."
   ]
  },
  {
   "cell_type": "markdown",
   "metadata": {},
   "source": [
    "## References"
   ]
  },
  {
   "cell_type": "markdown",
   "metadata": {},
   "source": [
    " https://www.kaggle.com/datasets/nelgiriyewithana/billionaires-statistics-dataset?resource=download"
   ]
  }
 ],
 "metadata": {
  "kernelspec": {
   "display_name": "Python 3 (ipykernel)",
   "language": "python",
   "name": "python3"
  },
  "language_info": {
   "codemirror_mode": {
    "name": "ipython",
    "version": 3
   },
   "file_extension": ".py",
   "mimetype": "text/x-python",
   "name": "python",
   "nbconvert_exporter": "python",
   "pygments_lexer": "ipython3",
   "version": "3.11.7"
  }
 },
 "nbformat": 4,
 "nbformat_minor": 4
}
